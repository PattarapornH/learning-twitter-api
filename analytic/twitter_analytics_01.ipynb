{
 "cells": [
  {
   "cell_type": "markdown",
   "metadata": {},
   "source": [
    "# Analysis of Twitter Data\n",
    "\n",
    "## Play with Twitter Streaming API\n",
    "API stands for Application Programming Interface. It is a tool that makes the interaction with computer programs and web services easy. Many web services provides APIs to developers to interact with their services and to access data in programmatic way. For this programming experiment, we will use Twitter Streaming API to download tweets related to the 2 keywords: \"**big data**\", and \"**data analytic**\".\n",
    "### Step 1: Getting Twitter API keys\n",
    "In order to access Twitter Streaming API, we need to get 4 pieces of information from Twitter: *API key*, *API secret*, *Access token* and *Access token secret*. Follow the steps below to get all these 4 elements:\n",
    "* Create a twitter account if you do not already have one.\n",
    "* Go to https://apps.twitter.com/ and log in with your twitter credentials.\n",
    "* Click \"Create New App\"\n",
    "* Fill out the form, agree to the terms, and click \"Create your Twitter application\"\n",
    "* In the next page, click on \"API keys\" tab, and copy your \"API key\" and \"API secret\".\n",
    "* Scroll down and click \"Create my access token\", and copy your \"Access token\" and \"Access token secret\"."
   ]
  },
  {
   "cell_type": "code",
   "execution_count": 1,
   "metadata": {},
   "outputs": [],
   "source": [
    "# Variables that contains the user credentials to access Twitter API\n",
    "consumer_key = ''\n",
    "consumer_secret = ''\n",
    "access_token = ''\n",
    "access_token_secret = ''"
   ]
  },
  {
   "cell_type": "markdown",
   "metadata": {},
   "source": [
    "### Step 2: Connecting to Twitter Streaming API and downloading data\n",
    "We will be using a Python library called **Tweepy** to connect to Twitter Streaming API and downloading the data.\n",
    "\n",
    "If you don't have Tweepy installed in your machine, go to this link [https://github.com/tweepy/tweepy], and follow the installation instructions.\n",
    "\n",
    "You can also run '*pip install tweepy*' in your anaconda installed directory."
   ]
  },
  {
   "cell_type": "code",
   "execution_count": 2,
   "metadata": {
    "scrolled": false
   },
   "outputs": [
    {
     "name": "stdout",
     "output_type": "stream",
     "text": [
      ">> Mon Mar 18 17:21:47 +0000 2019 RT @iamjony94: 15 Examples of How NOT to Use LinkedIn for Social Selling https://t.co/1r75nTvxzF #socialmedia #socialmediamarketing #digita…\n",
      "\n",
      ">> Mon Mar 18 17:21:50 +0000 2019 RT @csod_FR: À l’heure du #BigData et de la myriade de données à gérer au quotidien, il est temps pour les #RH et les responsables #FormPro…\n",
      "\n",
      ">> Mon Mar 18 17:21:54 +0000 2019 RT @quaesita: A map of #DataScience, xkcd-style!\n",
      "\n",
      "https://t.co/To1CwQoyjS https://t.co/WZpDH4tjmZ\n",
      "\n",
      ">> Mon Mar 18 17:21:56 +0000 2019 Big data and expanding surveillance technologies are becoming a big boon for autocratic regimes seeking to control… https://t.co/3GMxsVPF88\n",
      "\n",
      ">> Mon Mar 18 17:21:56 +0000 2019 RT @GFradelos: Georgios Fradelos #company message Multinationals outsource your #marketresearch from  GF-ACCORD, @GFradelos,  #bigdata &amp; #A…\n",
      "\n",
      ">> Mon Mar 18 17:21:58 +0000 2019 RT @Fisher85M: The Fields of #ArtificialIntelligence {Infographic}\n",
      "\n",
      "#MachineLearning #NLP #DeepLearning @Fisher85M #AI #Analytics #DL #BigD…\n",
      "\n",
      ">> Mon Mar 18 17:21:58 +0000 2019 RT @DeepLearn007: What Is #MachineLearning ? Image Source Mathworks\n",
      "cc @JimMarous @SpirosMargaris @ipfconline1 @Xbond49 @TopCyberNews @pier…\n",
      "\n",
      ">> Mon Mar 18 17:22:01 +0000 2019 @TSEGuatemala\n",
      "\n",
      ">> Mon Mar 18 17:22:02 +0000 2019 Parece que por fin van llegando las #smartgrids basadas en #Blockchain\n",
      "\n",
      ">> Mon Mar 18 17:22:03 +0000 2019 RT @Davey_F_Wright: 👏 Big data is not a substitute for knowledge of natural history 👏\n",
      "\n",
      ">> Mon Mar 18 17:22:03 +0000 2019 RT @BF_TechServices: L’#Irlande, nouvel #eldorado des #DataCenters en #Europe? La « Silicon Valley de l'UE », avec la présence des + grands…\n",
      "\n",
      ">> Mon Mar 18 17:22:04 +0000 2019 Discover how the #DHA &amp; #VA can turn #machinedata into answers with #Splunk. Watch these webinars for free to learn… https://t.co/Zl0gzBk81v\n",
      "\n",
      ">> Mon Mar 18 17:22:05 +0000 2019 #bigdata ook rechtstreeks relevant én #instrument om nodige hervormingen binnen welzijn en zorg mogelijk te maken,… https://t.co/dj9S4Lux7F\n",
      "\n",
      ">> Mon Mar 18 17:22:05 +0000 2019 RT @Ronald_vanLoon: How #BigData and the #InternetofThings Create #SmartCities\n",
      " by @BernardMarr @iotcentral |\n",
      "\n",
      "Read full article here: http…\n",
      "\n",
      ">> Mon Mar 18 17:22:08 +0000 2019 When viewing defensive 3rd down % (data courtesy @pfref ), #Seahawks in 2018 were better than the bulk of the LOB y… https://t.co/n8xu0iLHss\n",
      "\n",
      ">> Mon Mar 18 17:22:09 +0000 2019 RT @LSEsociology: Congratulations to @jwajcman1 who has been appointed Principal Investigator for @turinginst's new project 'Women in Data…\n",
      "\n",
      ">> Mon Mar 18 17:22:11 +0000 2019 🐊 training day! Great session on data led #CX that made a very clear case for our data science practice. Unlocking… https://t.co/zRgBXbZ9Rv\n",
      "\n",
      ">> Mon Mar 18 17:22:14 +0000 2019 RT @Ronald_vanLoon: How To Make #5G Real at the #Edge by Geetha Ram | \n",
      "\n",
      "#HPEpartner #HPE @HPE #MWC19 #5G #InternetofThings #Edge #EdgeCompu…\n",
      "\n",
      ">> Mon Mar 18 17:22:14 +0000 2019 Contact Dr. Georgios Fradelos the creator of  @gfaccord #bigdata &amp; #AI powered #global #business  #consulting via L… https://t.co/iTBNFKWBVq\n",
      "\n",
      ">> Mon Mar 18 17:22:15 +0000 2019 Data Science: Deep Learning in Python\n",
      "\n",
      "☞ https://t.co/Z1I7jD3SkJ\n",
      "\n",
      "#python #programming https://t.co/CyTLRnaBAu\n",
      "\n",
      ">> Mon Mar 18 17:22:16 +0000 2019 RT @HaroldSinnott: This doctor is performing remote-control surgery over a #5G network\n",
      "by @SCMPNews via @Ronald_vanLoon \n",
      "\n",
      "#IoT #Healthtech…\n",
      "\n",
      ">> Mon Mar 18 17:22:17 +0000 2019 RT @BigData_Joe: 6 Types of Twitter Social Media Networks [#INFOGRAPHICS] \n",
      "by @nodexl |\n",
      "\n",
      "#IoT #InternetOfThings #DigitalMarketing #BigData…\n",
      "\n",
      ">> Mon Mar 18 17:22:19 +0000 2019 RT @twobirds: In the eleventh article in our series on \"Big Data &amp; Issues &amp; Opportunities\", we will focus on legal instruments imposing dat…\n",
      "\n",
      ">> Mon Mar 18 17:22:25 +0000 2019 RT @AISOMA_AG: Only one representative from Germany among the Kaggle TOP 50 Competitions Leaderboard.\n",
      "\n",
      "https://t.co/2xyT8pWYi3\n",
      "\n",
      "#Kaggle #AI…\n",
      "\n",
      ">> Mon Mar 18 17:22:27 +0000 2019 Model Thinking https://t.co/Zgw0nqWCxV  #datascience #ad\n",
      "\n",
      ">> Mon Mar 18 17:22:28 +0000 2019 RT @WileyEd: OpenTable Restaurant Data Becomes New Battleground in Race Against Competitors https://t.co/S5khMUGgtH  | #DataScience #Machin…\n",
      "\n",
      ">> Mon Mar 18 17:22:29 +0000 2019 RT @DeepLearn007: What Is #MachineLearning ? Image Source Mathworks\n",
      "cc @JimMarous @SpirosMargaris @ipfconline1 @Xbond49 @TopCyberNews @pier…\n",
      "\n",
      ">> Mon Mar 18 17:22:31 +0000 2019 RT @WileyEd: OpenTable Restaurant Data Becomes New Battleground in Race Against Competitors https://t.co/S5khMUGgtH  | #DataScience #Machin…\n",
      "\n",
      ">> Mon Mar 18 17:22:31 +0000 2019 #Trump and #Melania mark St. Patrick's Day with church service https://t.co/W32KeV0a8c @MailOnline\n",
      "#bigdata… https://t.co/z8UQCY62ZS\n",
      "\n",
      ">> Mon Mar 18 17:22:32 +0000 2019 RT @danielbastos: Comparing the Four Major AI Strategies\n",
      " https://t.co/yBHDgJUVCy #DeepLearning #Algorithms #BigData #NeuralNetworks #AI #D…\n",
      "\n",
      ">> Mon Mar 18 17:22:35 +0000 2019 @AlwaysShanePS @BetoORourke @SenatorSinema Don't disagree that both states are historically red, just saying that t… https://t.co/vBg2yT9ixi\n",
      "\n",
      ">> Mon Mar 18 17:22:37 +0000 2019 Its nerdy stuff but the #CambridgeAnalytica story is at the heart of both #Trump &amp; #BrexitRef campaigns Knowing whe… https://t.co/eJkZzyna96\n",
      "\n",
      ">> Mon Mar 18 17:22:46 +0000 2019 RT @dbpedia: Plan on joining #DBpediaDay in May '19? Why not extend your experience &amp; stopping by at @LDKconference. Registration is NOW OP…\n",
      "\n",
      ">> Mon Mar 18 17:22:48 +0000 2019 RT @suzatweet: We'll be at ELSI (Earth-Life Science Institute, Tokyo Institute of Technology) today for our MLT x https://t.co/eINZ5Lys9g s…\n",
      "\n",
      ">> Mon Mar 18 17:22:50 +0000 2019 Tutorial: Exploratory #DataAnalysis\n",
      "Take data science up level.\n",
      "#DataScience Method -Problem Identification. Data C… https://t.co/2mpdwoD9Fw\n",
      "\n",
      ">> Mon Mar 18 17:22:51 +0000 2019 RT @carolecadwalla: Another big day in the life &amp; times of Cambridge Analytica. @profcarroll in High Court trying once again to get to the…\n",
      "\n",
      ">> Mon Mar 18 17:22:57 +0000 2019 RT @iamjony94: 15 Examples of How NOT to Use LinkedIn for Social Selling https://t.co/1r75nTvxzF #socialmedia #socialmediamarketing #digita…\n",
      "\n",
      ">> Mon Mar 18 17:22:56 +0000 2019 RT @BenjaminArnulf: I like this Accenture’s Data Maturity Level. Very good infographic from @Accenture. @AccentureTech via @evankirstel &amp; @…\n",
      "\n",
      ">> Mon Mar 18 17:23:00 +0000 2019 RT @IainLJBrown: These Works of Art Were Created by Artificial Intelligence - Duke Today\n",
      "\n",
      "Read more here: https://t.co/ea2C5Y3fmS\n",
      "\n",
      "#Artific…\n",
      "\n",
      ">> Mon Mar 18 17:23:00 +0000 2019 Los más listos 🧠 no son los que tienen las mejores ideas 💡, si no los que son capaces de aprovechar las ideas (y el… https://t.co/Cj1jKaRtsG\n",
      "\n",
      ">> Mon Mar 18 17:23:05 +0000 2019 RT @chidambara09: #Trump and #Melania mark St. Patrick's Day with church service https://t.co/W32KeV0a8c @MailOnline\n",
      "#bigdata #DataScientis…\n",
      "\n",
      ">> Mon Mar 18 17:23:05 +0000 2019 RT @IainLJBrown: Artificial Intelligence Speeds Up - R &amp; D Magazine\n",
      "\n",
      "Read more here: https://t.co/oV10RgM08Z\n",
      "\n",
      "#ArtificialIntelligence #AI #…\n",
      "\n",
      ">> Mon Mar 18 17:23:07 +0000 2019 RT @KirkDBorne: Improve Your #DataLiteracy Skills and Make the Most of Data with these fabulous resources at @geckoboard https://t.co/lRQwQ…\n",
      "\n",
      ">> Mon Mar 18 17:23:09 +0000 2019 RT @meerasndr: Hi folks. A friend of mine who is in a mid-senior position (15+ yrs exp) is looking for a job in the Data Science and Machin…\n",
      "\n",
      ">> Mon Mar 18 17:23:09 +0000 2019 RT @Fisher85M: The Fields of #ArtificialIntelligence {Infographic}\n",
      "\n",
      "#MachineLearning #NLP #DeepLearning @Fisher85M #AI #Analytics #DL #BigD…\n",
      "\n",
      ">> Mon Mar 18 17:23:13 +0000 2019 RT @benshapiro: Big win for Beto https://t.co/D3Zgh7vRLZ\n",
      "\n",
      ">> Mon Mar 18 17:23:14 +0000 2019 RT @KirkDBorne: Identify churn and proactively improve customer retention using the @LentiqInc #EdgeLake: https://t.co/IMF2S0Iu0o \n",
      "\n",
      "#BigDat…\n",
      "\n",
      ">> Mon Mar 18 17:23:15 +0000 2019 RT @diioannid: This #app helps you find quiet spots in big cities \n",
      "\n",
      "#smartliving  #smartcities #smartcity #iot #ai #bigdata #emergingtech @…\n",
      "\n",
      ">> Mon Mar 18 17:23:23 +0000 2019 RT @mesdatasetmoi: Aujourd'hui, la collecte à grande échelle de nos #donnéespersonnelles a mené à l'explosion de ce qu'on appelle le #BigDa…\n",
      "\n",
      ">> Mon Mar 18 17:23:23 +0000 2019 Data Science: Deep Learning in Python\n",
      "\n",
      "☞ https://t.co/lGRWMAeWlu\n",
      "\n",
      "#python #programming https://t.co/JIUcmHC8RI\n",
      "\n"
     ]
    },
    {
     "name": "stdout",
     "output_type": "stream",
     "text": [
      ">> Mon Mar 18 17:23:28 +0000 2019 Abuses of science through biased peer review, purchased studies &amp; political skewing of data affect following:… https://t.co/VeAuEexRaB\n",
      "\n",
      ">> Mon Mar 18 17:23:29 +0000 2019 RT @SouthBigDataHub: 3 Weeks 'til the #SBDH19 All Hands Meeting! #Academic and #industry leaders are invited to discuss #datascience #educa…\n",
      "\n",
      ">> Mon Mar 18 17:23:40 +0000 2019 The strange place where the worlds of Big Data, Russian Oligarchs, and CNBC all meet.  I remember @bradfitz feted i… https://t.co/xxY3wbALnV\n",
      "\n",
      ">> Mon Mar 18 17:23:41 +0000 2019 RT @hykeadvertising: Important things to note before you develop a website \n",
      "#socialmedia #socialmediamarketing #digitalmarketing #contentma…\n",
      "\n",
      ">> Mon Mar 18 17:23:47 +0000 2019 Big Data: A Revolution That Will Transform How We Live, Work, and Think https://t.co/dGCaOZF11h #BigData #Dataviz… https://t.co/qbC4vTHd9m\n",
      "\n",
      ">> Mon Mar 18 17:23:49 +0000 2019 RT @RyanMLandry: How will Big Data and Machine Learning Impact Your Business in 2019? Download the Infographic Here: https://t.co/FfmaBYWmO…\n",
      "\n",
      ">> Mon Mar 18 17:23:50 +0000 2019 RT @farbandish: Big horror news: NIST has been using child pornography, immigration records and the photographs of dead arrestees to train…\n",
      "\n",
      ">> Mon Mar 18 17:23:51 +0000 2019 RT @benshapiro: Big win for Beto https://t.co/D3Zgh7vRLZ\n",
      "\n",
      ">> Mon Mar 18 17:23:51 +0000 2019 #HistoricalData &amp; #MachineLearning can make a big mess... Context matters \n",
      "#ML #ai #bigdata #DataMining https://t.co/lIjXb950KG\n",
      "\n",
      ">> Mon Mar 18 17:23:52 +0000 2019 Amen. @ChrisSprowls has been leading on this in the House. Your help is a big boost to making DNA consent the law o… https://t.co/h7Ns4EiHWK\n",
      "\n",
      ">> Mon Mar 18 17:23:53 +0000 2019 RT @STOmarova: That fiction is always the key to creating financial asset bubbles. https://t.co/R9gX8Voxqs\n",
      "\n",
      ">> Mon Mar 18 17:23:56 +0000 2019 Las 10 carreras del futuro en el mundo de la #Tecnología\n",
      "#IA #BigData #Ciberseguridad\n",
      "https://t.co/OD6TElfpsW\n",
      "\n",
      ">> Mon Mar 18 17:23:58 +0000 2019 RT @coolarun143: How To Combine SEO and UX to Improve Your Website https://t.co/vkohMn0JIx #socialmedia #socialmediamarketing #digitalmarke…\n",
      "\n",
      ">> Mon Mar 18 17:24:00 +0000 2019 The Evolution Of Data Governance - https://t.co/2Ncpvfdcxn #DataAnalytics #data #DataScience\n",
      "\n",
      ">> Mon Mar 18 17:24:00 +0000 2019 Network Analysis of Emotions https://t.co/WseGzgTMN0 #r #statistics #data science\n",
      "\n",
      ">> Mon Mar 18 17:24:01 +0000 2019 #WhatsApp co-founder urges users to delete their #Facebook accounts — again\n",
      "\n",
      "via @ansonmccade… https://t.co/jEYw6RSmQf\n",
      "\n",
      ">> Mon Mar 18 17:24:02 +0000 2019 The AI Roles Some Companies Forget to Fill https://t.co/5eNqoVCUId  | #DataScience #MachineLearning… https://t.co/nRhBetul5S\n",
      "\n",
      ">> Mon Mar 18 17:24:06 +0000 2019 RT @iamjony94: Retargeting Ads - A Beginner’s Guide https://t.co/0GkWzPI2n6 #socialmedia #socialmediamarketing #digitalmarketing #contentma…\n",
      "\n",
      ">> Mon Mar 18 17:24:06 +0000 2019 RT @rafalab: A free PDF version of\n",
      "\n",
      "Introduction to Data Science: Data Analysis and Prediction Algorithms with R \n",
      "\n",
      "is now available on http…\n",
      "\n",
      ">> Mon Mar 18 17:24:07 +0000 2019 RT @KirkDBorne: 19 Data and Analytics Predictions Through 2025: e.g. by 2020, 90% of large enterprises will generate revenue from data-as-a…\n",
      "\n",
      ">> Mon Mar 18 17:24:13 +0000 2019 RT @riiaa_mex: #HistoricalData &amp; #MachineLearning can make a big mess... Context matters \n",
      "#ML #ai #bigdata #DataMining https://t.co/lIjXb95…\n",
      "\n",
      ">> Mon Mar 18 17:24:14 +0000 2019 RT @DeepLearn007: What Is #MachineLearning ? Image Source Mathworks\n",
      "cc @JimMarous @SpirosMargaris @ipfconline1 @Xbond49 @TopCyberNews @pier…\n",
      "\n",
      ">> Mon Mar 18 17:24:18 +0000 2019 RT @arunkmaharana: How To Combine SEO and UX to Improve Your Website https://t.co/VGYjwmd6PS #socialmedia #socialmediamarketing #digitalmar…\n",
      "\n",
      ">> Mon Mar 18 17:24:18 +0000 2019 RT @DigiTogether: The man who helped create the internet as we know it has a warning about its future https://t.co/0eDjIgL4KO #DigitalHelps…\n",
      "\n",
      ">> Mon Mar 18 17:24:19 +0000 2019 RT @AnsonMcCade: #WhatsApp co-founder urges users to delete their #Facebook accounts — again\n",
      "\n",
      "via @ansonmccade https://t.co/NoZb8OQ5lv #tec…\n",
      "\n",
      ">> Mon Mar 18 17:24:19 +0000 2019 RT @carolecadwalla: Another big day in the life &amp; times of Cambridge Analytica. @profcarroll in High Court trying once again to get to the…\n",
      "\n",
      ">> Mon Mar 18 17:24:22 +0000 2019 RT @MADANA_HQ: Recently, our COO was a speaker at the #DataMarketplacesWorkshop from @BoschSI Experts and #IoT ecosystem drivers discussed…\n",
      "\n",
      ">> Mon Mar 18 17:24:25 +0000 2019 All smiles from the ADM of Innovation and Energy Technology Frank Des Rosiers and Dr. Aspuru-Guzik from @UofT at th… https://t.co/pBmyepBkFN\n",
      "\n",
      ">> Mon Mar 18 17:24:22 +0000 2019 RT @WiMLDS_Paris: You missed our last #meetup? Check the 📺+ slides from @gulvarol from @inria_paris, @amy8492 from @CriteoAILab  &amp; @ncernec…\n",
      "\n",
      ">> Mon Mar 18 17:24:33 +0000 2019 Salesforce Research: Knowledge graphs and machine learning to power Einstein: Explainable AI in real life could mea… https://t.co/Z7L5bLKY1A\n",
      "\n",
      ">> Mon Mar 18 17:24:34 +0000 2019 RT @gectouch: What is GDPR and how #GDPR impacts digital marketing?\n",
      "\n",
      "Read more at: https://t.co/jTFNsM1Qdp\n",
      "\n",
      "#dataprotection #dataprivacy #d…\n",
      "\n",
      ">> Mon Mar 18 17:24:39 +0000 2019 RT @WileyEd: The AI Roles Some Companies Forget to Fill https://t.co/5eNqoVCUId  | #DataScience #MachineLearning #ArtificialInteligence #AI…\n",
      "\n",
      ">> Mon Mar 18 17:24:40 +0000 2019 RT @ipfconline1: Five Unexpected Uses of #BigData\n",
      "\n",
      "https://t.co/WypOhM7O5c [by @TiberiuJakab v/ @BigStepInc]\n",
      "#AI #MachineLearning #CX #Cust…\n",
      "\n",
      ">> Mon Mar 18 17:24:41 +0000 2019 RT @HaroldSinnott: This doctor is performing remote-control surgery over a #5G network\n",
      "by @SCMPNews via @Ronald_vanLoon \n",
      "\n",
      "#IoT #Healthtech…\n",
      "\n",
      ">> Mon Mar 18 17:24:52 +0000 2019 Minister Barley opened our discussion by calling for a policy framework for big data and AI that combines both head… https://t.co/E4JfXD9Xeg\n",
      "\n",
      ">> Mon Mar 18 17:24:53 +0000 2019 RT @YurmanCc: A Handy Way to Think About Machine Learning https://t.co/1I6ZOyDCV8 #BigData #MachineLearning #ML https://t.co/7SaUup6CdC\n",
      "\n",
      ">> Mon Mar 18 17:24:53 +0000 2019 RT @MikeTamir: Cultural overfitting and underfitting. Or why the “Netflix Culture” won’t work in your company. https://t.co/bGvl7uUsNd #AI…\n",
      "\n",
      ">> Mon Mar 18 17:24:57 +0000 2019 RT @simobenso: L’information n’est pas le pouvoir, c’est la connaissance et la sagesse qu’on tire de l’information qui nous procurent le po…\n",
      "\n",
      ">> Mon Mar 18 17:24:59 +0000 2019 The Potential of Mobile Network Big Data as a Tool in Colombo's Transportation and Urban Planning https://t.co/zyTBo9kxCt\n",
      "\n",
      ">> Mon Mar 18 17:24:59 +0000 2019 RT @authoritydata: Big Data: A Revolution That Will Transform How We Live, Work, and Think https://t.co/dGCaOZF11h #BigData #Dataviz #deals…\n",
      "\n",
      ">> Mon Mar 18 17:24:59 +0000 2019 RT @kirkbrote: Bringing life to precision medicine https://t.co/X15v7YhLJy #ai #machinelearning #bigdata #CIO #datascimed #omics #genomics…\n",
      "\n",
      ">> Mon Mar 18 17:25:00 +0000 2019 RT @IsolatedBrit: @J_amesp @JL_998 @Byline_Media Given that #Brexit was/is backed by disaster-capitalists, anti-immigration populists, tax-…\n",
      "\n",
      ">> Mon Mar 18 17:25:00 +0000 2019 With support from a 2019 grant (&amp; YOU!), park scientists will study songbird populations, gather data to inform mea… https://t.co/OUXxoWXAWs\n",
      "\n",
      ">> Mon Mar 18 17:25:04 +0000 2019 RT @craigbrownphd: Salesforce Research: Knowledge graphs and machine learning to power Einstein: Explainable AI in real life could mean Ein…\n",
      "\n",
      ">> Mon Mar 18 17:25:06 +0000 2019 Data Science: Deep Learning in Python\n",
      "\n",
      "☞ https://t.co/CPBk2QrL3j\n",
      "\n",
      "#python #programming https://t.co/SSyzYrMoev\n",
      "\n",
      ">> Mon Mar 18 17:25:07 +0000 2019 RT @farbandish: Big horror news: NIST has been using child pornography, immigration records and the photographs of dead arrestees to train…\n",
      "\n",
      ">> Mon Mar 18 17:25:07 +0000 2019 RT @VanberghenEU: Join #AntwerpenHackathon to create cutting-edge solutions for #smartcities. You have a chance to enhance the quality of l…\n",
      "\n",
      ">> Mon Mar 18 17:25:08 +0000 2019 To build the cities of the future, we must get out of our cars https://t.co/9eR6SF2IOt via @NatGeo #futurecities… https://t.co/X7itIl7DgF\n",
      "\n",
      ">> Mon Mar 18 17:25:08 +0000 2019 bigdataweek: RT YottaDataTech: The Open Source Resource is out! https://t.co/eh3YnITGWi Data via bigdataweek MaasJo… https://t.co/rJWwLXIBRV\n",
      "\n"
     ]
    },
    {
     "name": "stdout",
     "output_type": "stream",
     "text": [
      ">> Mon Mar 18 17:25:09 +0000 2019 bigdataweek: RT KirkDBorne: Implement a #MultiCloud #DataLake strategy, by leveraging the #EdgeLake technology:… https://t.co/eD5qtuKrXn\n",
      "\n",
      ">> Mon Mar 18 17:25:09 +0000 2019 RT @Xbond49: Financial services businesses are unprepared for #technology #disruption https://t.co/Df3pZOsZ4q #fintech #MachineLearning #Ar…\n",
      "\n",
      ">> Mon Mar 18 17:25:09 +0000 2019 bigdataweek: RT KirkDBorne: 40+ Techniques &amp; #Algorithms Used by #DataScientists, with links to articles for each o… https://t.co/Dc1xQgRtXQ\n",
      "\n",
      ">> Mon Mar 18 17:25:11 +0000 2019 bigdataweek: RT KirkDBorne: Improve Your #DataLiteracy Skills and Make the Most of Data with these fabulous resourc… https://t.co/JGnnZ80dgd\n",
      "\n",
      ">> Mon Mar 18 17:25:11 +0000 2019 bigdataweek: RT KirkDBorne: Identify churn and proactively improve customer retention using the LentiqInc #EdgeLake… https://t.co/xA5U3jAgyK\n",
      "\n",
      ">> Mon Mar 18 17:25:12 +0000 2019 UC Berkeley Executive Education’s Data Science program online gives non-technical professionals direct access to th… https://t.co/edfirQd5eG\n",
      "\n",
      ">> Mon Mar 18 17:25:19 +0000 2019 RT @chidambara09: #Trump and #Melania mark St. Patrick's Day with church service https://t.co/W32KeV0a8c @MailOnline\n",
      "#bigdata #DataScientis…\n",
      "\n",
      ">> Mon Mar 18 17:25:20 +0000 2019 RT @Fisher85M: The Fields of #ArtificialIntelligence {Infographic}\n",
      "\n",
      "#MachineLearning #NLP #DeepLearning @Fisher85M #AI #Analytics #DL #BigD…\n",
      "\n",
      ">> Mon Mar 18 17:25:21 +0000 2019 RT @Deep_In_Depth: North America’s first autonomous airport snowplow unveiled https://t.co/MQK4chSKN0 #DeepLearning #MachineLearning #AI #D…\n",
      "\n",
      ">> Mon Mar 18 17:25:24 +0000 2019 RT @NeilCattermull: Mondays tip from @sarbjeetjohal and I from #TheValleyafterDark series of tips for the #startup community. Todays tip is…\n",
      "\n",
      ">> Mon Mar 18 17:25:25 +0000 2019 RT @SCLHealth: So proud of how @SCLHealth &amp; Louis Capponi are using data to revolutionize patient care &amp; curb healthcare waste! @AHL_Magazi…\n",
      "\n",
      ">> Mon Mar 18 17:25:28 +0000 2019 RT @benshapiro: Big win for Beto https://t.co/D3Zgh7vRLZ\n",
      "\n",
      ">> Mon Mar 18 17:25:31 +0000 2019 RT @marc_smith: #bigdata via NodeXL https://t.co/hmRVUxWKYE\n",
      "@chidambara09\n",
      "@thomashilbig2\n",
      "@sanitas\n",
      "@benedicterios\n",
      "@kirkdborne\n",
      "@paradigminov8…\n",
      "\n"
     ]
    },
    {
     "ename": "KeyboardInterrupt",
     "evalue": "",
     "output_type": "error",
     "traceback": [
      "\u001b[0;31m---------------------------------------------------------------------------\u001b[0m",
      "\u001b[0;31mWantReadError\u001b[0m                             Traceback (most recent call last)",
      "\u001b[0;32m~/anaconda3/lib/python3.6/site-packages/urllib3/contrib/pyopenssl.py\u001b[0m in \u001b[0;36mrecv_into\u001b[0;34m(self, *args, **kwargs)\u001b[0m\n\u001b[1;32m    279\u001b[0m         \u001b[0;32mtry\u001b[0m\u001b[0;34m:\u001b[0m\u001b[0;34m\u001b[0m\u001b[0m\n\u001b[0;32m--> 280\u001b[0;31m             \u001b[0;32mreturn\u001b[0m \u001b[0mself\u001b[0m\u001b[0;34m.\u001b[0m\u001b[0mconnection\u001b[0m\u001b[0;34m.\u001b[0m\u001b[0mrecv_into\u001b[0m\u001b[0;34m(\u001b[0m\u001b[0;34m*\u001b[0m\u001b[0margs\u001b[0m\u001b[0;34m,\u001b[0m \u001b[0;34m**\u001b[0m\u001b[0mkwargs\u001b[0m\u001b[0;34m)\u001b[0m\u001b[0;34m\u001b[0m\u001b[0m\n\u001b[0m\u001b[1;32m    281\u001b[0m         \u001b[0;32mexcept\u001b[0m \u001b[0mOpenSSL\u001b[0m\u001b[0;34m.\u001b[0m\u001b[0mSSL\u001b[0m\u001b[0;34m.\u001b[0m\u001b[0mSysCallError\u001b[0m \u001b[0;32mas\u001b[0m \u001b[0me\u001b[0m\u001b[0;34m:\u001b[0m\u001b[0;34m\u001b[0m\u001b[0m\n",
      "\u001b[0;32m~/anaconda3/lib/python3.6/site-packages/OpenSSL/SSL.py\u001b[0m in \u001b[0;36mrecv_into\u001b[0;34m(self, buffer, nbytes, flags)\u001b[0m\n\u001b[1;32m   1813\u001b[0m             \u001b[0mresult\u001b[0m \u001b[0;34m=\u001b[0m \u001b[0m_lib\u001b[0m\u001b[0;34m.\u001b[0m\u001b[0mSSL_read\u001b[0m\u001b[0;34m(\u001b[0m\u001b[0mself\u001b[0m\u001b[0;34m.\u001b[0m\u001b[0m_ssl\u001b[0m\u001b[0;34m,\u001b[0m \u001b[0mbuf\u001b[0m\u001b[0;34m,\u001b[0m \u001b[0mnbytes\u001b[0m\u001b[0;34m)\u001b[0m\u001b[0;34m\u001b[0m\u001b[0m\n\u001b[0;32m-> 1814\u001b[0;31m         \u001b[0mself\u001b[0m\u001b[0;34m.\u001b[0m\u001b[0m_raise_ssl_error\u001b[0m\u001b[0;34m(\u001b[0m\u001b[0mself\u001b[0m\u001b[0;34m.\u001b[0m\u001b[0m_ssl\u001b[0m\u001b[0;34m,\u001b[0m \u001b[0mresult\u001b[0m\u001b[0;34m)\u001b[0m\u001b[0;34m\u001b[0m\u001b[0m\n\u001b[0m\u001b[1;32m   1815\u001b[0m \u001b[0;34m\u001b[0m\u001b[0m\n",
      "\u001b[0;32m~/anaconda3/lib/python3.6/site-packages/OpenSSL/SSL.py\u001b[0m in \u001b[0;36m_raise_ssl_error\u001b[0;34m(self, ssl, result)\u001b[0m\n\u001b[1;32m   1613\u001b[0m         \u001b[0;32mif\u001b[0m \u001b[0merror\u001b[0m \u001b[0;34m==\u001b[0m \u001b[0m_lib\u001b[0m\u001b[0;34m.\u001b[0m\u001b[0mSSL_ERROR_WANT_READ\u001b[0m\u001b[0;34m:\u001b[0m\u001b[0;34m\u001b[0m\u001b[0m\n\u001b[0;32m-> 1614\u001b[0;31m             \u001b[0;32mraise\u001b[0m \u001b[0mWantReadError\u001b[0m\u001b[0;34m(\u001b[0m\u001b[0;34m)\u001b[0m\u001b[0;34m\u001b[0m\u001b[0m\n\u001b[0m\u001b[1;32m   1615\u001b[0m         \u001b[0;32melif\u001b[0m \u001b[0merror\u001b[0m \u001b[0;34m==\u001b[0m \u001b[0m_lib\u001b[0m\u001b[0;34m.\u001b[0m\u001b[0mSSL_ERROR_WANT_WRITE\u001b[0m\u001b[0;34m:\u001b[0m\u001b[0;34m\u001b[0m\u001b[0m\n",
      "\u001b[0;31mWantReadError\u001b[0m: ",
      "\nDuring handling of the above exception, another exception occurred:\n",
      "\u001b[0;31mKeyboardInterrupt\u001b[0m                         Traceback (most recent call last)",
      "\u001b[0;32m<ipython-input-2-01d2cd981ab7>\u001b[0m in \u001b[0;36m<module>\u001b[0;34m()\u001b[0m\n\u001b[1;32m     31\u001b[0m \u001b[0;34m\u001b[0m\u001b[0m\n\u001b[1;32m     32\u001b[0m     \u001b[0;31m#This line filter Twitter Streams to capture data by the keywords: 'python', 'javascript', 'ruby'\u001b[0m\u001b[0;34m\u001b[0m\u001b[0;34m\u001b[0m\u001b[0m\n\u001b[0;32m---> 33\u001b[0;31m     \u001b[0mtwitter_stream\u001b[0m\u001b[0;34m.\u001b[0m\u001b[0mfilter\u001b[0m\u001b[0;34m(\u001b[0m\u001b[0mtrack\u001b[0m\u001b[0;34m=\u001b[0m\u001b[0;34m[\u001b[0m\u001b[0;34m'big data'\u001b[0m\u001b[0;34m,\u001b[0m \u001b[0;34m'data analytic'\u001b[0m\u001b[0;34m,\u001b[0m \u001b[0;34m'data science'\u001b[0m\u001b[0;34m,\u001b[0m \u001b[0;34m'#bigdata'\u001b[0m\u001b[0;34m,\u001b[0m \u001b[0;34m'#datascience'\u001b[0m\u001b[0;34m,\u001b[0m \u001b[0;34m'#dataanalytic'\u001b[0m\u001b[0;34m]\u001b[0m\u001b[0;34m)\u001b[0m\u001b[0;34m\u001b[0m\u001b[0m\n\u001b[0m",
      "\u001b[0;32m~/anaconda3/lib/python3.6/site-packages/tweepy/streaming.py\u001b[0m in \u001b[0;36mfilter\u001b[0;34m(self, follow, track, is_async, locations, stall_warnings, languages, encoding, filter_level)\u001b[0m\n\u001b[1;32m    451\u001b[0m             \u001b[0mself\u001b[0m\u001b[0;34m.\u001b[0m\u001b[0mbody\u001b[0m\u001b[0;34m[\u001b[0m\u001b[0;34m'filter_level'\u001b[0m\u001b[0;34m]\u001b[0m \u001b[0;34m=\u001b[0m \u001b[0mfilter_level\u001b[0m\u001b[0;34m.\u001b[0m\u001b[0mencode\u001b[0m\u001b[0;34m(\u001b[0m\u001b[0mencoding\u001b[0m\u001b[0;34m)\u001b[0m\u001b[0;34m\u001b[0m\u001b[0m\n\u001b[1;32m    452\u001b[0m         \u001b[0mself\u001b[0m\u001b[0;34m.\u001b[0m\u001b[0msession\u001b[0m\u001b[0;34m.\u001b[0m\u001b[0mparams\u001b[0m \u001b[0;34m=\u001b[0m \u001b[0;34m{\u001b[0m\u001b[0;34m'delimited'\u001b[0m\u001b[0;34m:\u001b[0m \u001b[0;34m'length'\u001b[0m\u001b[0;34m}\u001b[0m\u001b[0;34m\u001b[0m\u001b[0m\n\u001b[0;32m--> 453\u001b[0;31m         \u001b[0mself\u001b[0m\u001b[0;34m.\u001b[0m\u001b[0m_start\u001b[0m\u001b[0;34m(\u001b[0m\u001b[0mis_async\u001b[0m\u001b[0;34m)\u001b[0m\u001b[0;34m\u001b[0m\u001b[0m\n\u001b[0m\u001b[1;32m    454\u001b[0m \u001b[0;34m\u001b[0m\u001b[0m\n\u001b[1;32m    455\u001b[0m     def sitestream(self, follow, stall_warnings=False,\n",
      "\u001b[0;32m~/anaconda3/lib/python3.6/site-packages/tweepy/streaming.py\u001b[0m in \u001b[0;36m_start\u001b[0;34m(self, is_async)\u001b[0m\n\u001b[1;32m    366\u001b[0m             \u001b[0mself\u001b[0m\u001b[0;34m.\u001b[0m\u001b[0m_thread\u001b[0m\u001b[0;34m.\u001b[0m\u001b[0mstart\u001b[0m\u001b[0;34m(\u001b[0m\u001b[0;34m)\u001b[0m\u001b[0;34m\u001b[0m\u001b[0m\n\u001b[1;32m    367\u001b[0m         \u001b[0;32melse\u001b[0m\u001b[0;34m:\u001b[0m\u001b[0;34m\u001b[0m\u001b[0m\n\u001b[0;32m--> 368\u001b[0;31m             \u001b[0mself\u001b[0m\u001b[0;34m.\u001b[0m\u001b[0m_run\u001b[0m\u001b[0;34m(\u001b[0m\u001b[0;34m)\u001b[0m\u001b[0;34m\u001b[0m\u001b[0m\n\u001b[0m\u001b[1;32m    369\u001b[0m \u001b[0;34m\u001b[0m\u001b[0m\n\u001b[1;32m    370\u001b[0m     \u001b[0;32mdef\u001b[0m \u001b[0mon_closed\u001b[0m\u001b[0;34m(\u001b[0m\u001b[0mself\u001b[0m\u001b[0;34m,\u001b[0m \u001b[0mresp\u001b[0m\u001b[0;34m)\u001b[0m\u001b[0;34m:\u001b[0m\u001b[0;34m\u001b[0m\u001b[0m\n",
      "\u001b[0;32m~/anaconda3/lib/python3.6/site-packages/tweepy/streaming.py\u001b[0m in \u001b[0;36m_run\u001b[0;34m(self)\u001b[0m\n\u001b[1;32m    267\u001b[0m                     \u001b[0mself\u001b[0m\u001b[0;34m.\u001b[0m\u001b[0msnooze_time\u001b[0m \u001b[0;34m=\u001b[0m \u001b[0mself\u001b[0m\u001b[0;34m.\u001b[0m\u001b[0msnooze_time_step\u001b[0m\u001b[0;34m\u001b[0m\u001b[0m\n\u001b[1;32m    268\u001b[0m                     \u001b[0mself\u001b[0m\u001b[0;34m.\u001b[0m\u001b[0mlistener\u001b[0m\u001b[0;34m.\u001b[0m\u001b[0mon_connect\u001b[0m\u001b[0;34m(\u001b[0m\u001b[0;34m)\u001b[0m\u001b[0;34m\u001b[0m\u001b[0m\n\u001b[0;32m--> 269\u001b[0;31m                     \u001b[0mself\u001b[0m\u001b[0;34m.\u001b[0m\u001b[0m_read_loop\u001b[0m\u001b[0;34m(\u001b[0m\u001b[0mresp\u001b[0m\u001b[0;34m)\u001b[0m\u001b[0;34m\u001b[0m\u001b[0m\n\u001b[0m\u001b[1;32m    270\u001b[0m             \u001b[0;32mexcept\u001b[0m \u001b[0;34m(\u001b[0m\u001b[0mTimeout\u001b[0m\u001b[0;34m,\u001b[0m \u001b[0mssl\u001b[0m\u001b[0;34m.\u001b[0m\u001b[0mSSLError\u001b[0m\u001b[0;34m)\u001b[0m \u001b[0;32mas\u001b[0m \u001b[0mexc\u001b[0m\u001b[0;34m:\u001b[0m\u001b[0;34m\u001b[0m\u001b[0m\n\u001b[1;32m    271\u001b[0m                 \u001b[0;31m# This is still necessary, as a SSLError can actually be\u001b[0m\u001b[0;34m\u001b[0m\u001b[0;34m\u001b[0m\u001b[0m\n",
      "\u001b[0;32m~/anaconda3/lib/python3.6/site-packages/tweepy/streaming.py\u001b[0m in \u001b[0;36m_read_loop\u001b[0;34m(self, resp)\u001b[0m\n\u001b[1;32m    317\u001b[0m             \u001b[0mlength\u001b[0m \u001b[0;34m=\u001b[0m \u001b[0;36m0\u001b[0m\u001b[0;34m\u001b[0m\u001b[0m\n\u001b[1;32m    318\u001b[0m             \u001b[0;32mwhile\u001b[0m \u001b[0;32mnot\u001b[0m \u001b[0mresp\u001b[0m\u001b[0;34m.\u001b[0m\u001b[0mraw\u001b[0m\u001b[0;34m.\u001b[0m\u001b[0mclosed\u001b[0m\u001b[0;34m:\u001b[0m\u001b[0;34m\u001b[0m\u001b[0m\n\u001b[0;32m--> 319\u001b[0;31m                 \u001b[0mline\u001b[0m \u001b[0;34m=\u001b[0m \u001b[0mbuf\u001b[0m\u001b[0;34m.\u001b[0m\u001b[0mread_line\u001b[0m\u001b[0;34m(\u001b[0m\u001b[0;34m)\u001b[0m\u001b[0;34m\u001b[0m\u001b[0m\n\u001b[0m\u001b[1;32m    320\u001b[0m                 \u001b[0mstripped_line\u001b[0m \u001b[0;34m=\u001b[0m \u001b[0mline\u001b[0m\u001b[0;34m.\u001b[0m\u001b[0mstrip\u001b[0m\u001b[0;34m(\u001b[0m\u001b[0;34m)\u001b[0m \u001b[0;32mif\u001b[0m \u001b[0mline\u001b[0m \u001b[0;32melse\u001b[0m \u001b[0mline\u001b[0m \u001b[0;31m# line is sometimes None so we need to check here\u001b[0m\u001b[0;34m\u001b[0m\u001b[0m\n\u001b[1;32m    321\u001b[0m                 \u001b[0;32mif\u001b[0m \u001b[0;32mnot\u001b[0m \u001b[0mstripped_line\u001b[0m\u001b[0;34m:\u001b[0m\u001b[0;34m\u001b[0m\u001b[0m\n",
      "\u001b[0;32m~/anaconda3/lib/python3.6/site-packages/tweepy/streaming.py\u001b[0m in \u001b[0;36mread_line\u001b[0;34m(self, sep)\u001b[0m\n\u001b[1;32m    179\u001b[0m             \u001b[0;32melse\u001b[0m\u001b[0;34m:\u001b[0m\u001b[0;34m\u001b[0m\u001b[0m\n\u001b[1;32m    180\u001b[0m                 \u001b[0mstart\u001b[0m \u001b[0;34m=\u001b[0m \u001b[0mlen\u001b[0m\u001b[0;34m(\u001b[0m\u001b[0mself\u001b[0m\u001b[0;34m.\u001b[0m\u001b[0m_buffer\u001b[0m\u001b[0;34m)\u001b[0m\u001b[0;34m\u001b[0m\u001b[0m\n\u001b[0;32m--> 181\u001b[0;31m             \u001b[0mself\u001b[0m\u001b[0;34m.\u001b[0m\u001b[0m_buffer\u001b[0m \u001b[0;34m+=\u001b[0m \u001b[0mself\u001b[0m\u001b[0;34m.\u001b[0m\u001b[0m_stream\u001b[0m\u001b[0;34m.\u001b[0m\u001b[0mread\u001b[0m\u001b[0;34m(\u001b[0m\u001b[0mself\u001b[0m\u001b[0;34m.\u001b[0m\u001b[0m_chunk_size\u001b[0m\u001b[0;34m)\u001b[0m\u001b[0;34m\u001b[0m\u001b[0m\n\u001b[0m\u001b[1;32m    182\u001b[0m         \u001b[0;32mreturn\u001b[0m \u001b[0msix\u001b[0m\u001b[0;34m.\u001b[0m\u001b[0mb\u001b[0m\u001b[0;34m(\u001b[0m\u001b[0;34m''\u001b[0m\u001b[0;34m)\u001b[0m\u001b[0;34m\u001b[0m\u001b[0m\n\u001b[1;32m    183\u001b[0m \u001b[0;34m\u001b[0m\u001b[0m\n",
      "\u001b[0;32m~/anaconda3/lib/python3.6/site-packages/urllib3/response.py\u001b[0m in \u001b[0;36mread\u001b[0;34m(self, amt, decode_content, cache_content)\u001b[0m\n\u001b[1;32m    382\u001b[0m             \u001b[0;32melse\u001b[0m\u001b[0;34m:\u001b[0m\u001b[0;34m\u001b[0m\u001b[0m\n\u001b[1;32m    383\u001b[0m                 \u001b[0mcache_content\u001b[0m \u001b[0;34m=\u001b[0m \u001b[0;32mFalse\u001b[0m\u001b[0;34m\u001b[0m\u001b[0m\n\u001b[0;32m--> 384\u001b[0;31m                 \u001b[0mdata\u001b[0m \u001b[0;34m=\u001b[0m \u001b[0mself\u001b[0m\u001b[0;34m.\u001b[0m\u001b[0m_fp\u001b[0m\u001b[0;34m.\u001b[0m\u001b[0mread\u001b[0m\u001b[0;34m(\u001b[0m\u001b[0mamt\u001b[0m\u001b[0;34m)\u001b[0m\u001b[0;34m\u001b[0m\u001b[0m\n\u001b[0m\u001b[1;32m    385\u001b[0m                 \u001b[0;32mif\u001b[0m \u001b[0mamt\u001b[0m \u001b[0;34m!=\u001b[0m \u001b[0;36m0\u001b[0m \u001b[0;32mand\u001b[0m \u001b[0;32mnot\u001b[0m \u001b[0mdata\u001b[0m\u001b[0;34m:\u001b[0m  \u001b[0;31m# Platform-specific: Buggy versions of Python.\u001b[0m\u001b[0;34m\u001b[0m\u001b[0m\n\u001b[1;32m    386\u001b[0m                     \u001b[0;31m# Close the connection when no data is returned\u001b[0m\u001b[0;34m\u001b[0m\u001b[0;34m\u001b[0m\u001b[0m\n",
      "\u001b[0;32m~/anaconda3/lib/python3.6/http/client.py\u001b[0m in \u001b[0;36mread\u001b[0;34m(self, amt)\u001b[0m\n\u001b[1;32m    447\u001b[0m             \u001b[0;31m# Amount is given, implement using readinto\u001b[0m\u001b[0;34m\u001b[0m\u001b[0;34m\u001b[0m\u001b[0m\n\u001b[1;32m    448\u001b[0m             \u001b[0mb\u001b[0m \u001b[0;34m=\u001b[0m \u001b[0mbytearray\u001b[0m\u001b[0;34m(\u001b[0m\u001b[0mamt\u001b[0m\u001b[0;34m)\u001b[0m\u001b[0;34m\u001b[0m\u001b[0m\n\u001b[0;32m--> 449\u001b[0;31m             \u001b[0mn\u001b[0m \u001b[0;34m=\u001b[0m \u001b[0mself\u001b[0m\u001b[0;34m.\u001b[0m\u001b[0mreadinto\u001b[0m\u001b[0;34m(\u001b[0m\u001b[0mb\u001b[0m\u001b[0;34m)\u001b[0m\u001b[0;34m\u001b[0m\u001b[0m\n\u001b[0m\u001b[1;32m    450\u001b[0m             \u001b[0;32mreturn\u001b[0m \u001b[0mmemoryview\u001b[0m\u001b[0;34m(\u001b[0m\u001b[0mb\u001b[0m\u001b[0;34m)\u001b[0m\u001b[0;34m[\u001b[0m\u001b[0;34m:\u001b[0m\u001b[0mn\u001b[0m\u001b[0;34m]\u001b[0m\u001b[0;34m.\u001b[0m\u001b[0mtobytes\u001b[0m\u001b[0;34m(\u001b[0m\u001b[0;34m)\u001b[0m\u001b[0;34m\u001b[0m\u001b[0m\n\u001b[1;32m    451\u001b[0m         \u001b[0;32melse\u001b[0m\u001b[0;34m:\u001b[0m\u001b[0;34m\u001b[0m\u001b[0m\n",
      "\u001b[0;32m~/anaconda3/lib/python3.6/http/client.py\u001b[0m in \u001b[0;36mreadinto\u001b[0;34m(self, b)\u001b[0m\n\u001b[1;32m    481\u001b[0m \u001b[0;34m\u001b[0m\u001b[0m\n\u001b[1;32m    482\u001b[0m         \u001b[0;32mif\u001b[0m \u001b[0mself\u001b[0m\u001b[0;34m.\u001b[0m\u001b[0mchunked\u001b[0m\u001b[0;34m:\u001b[0m\u001b[0;34m\u001b[0m\u001b[0m\n\u001b[0;32m--> 483\u001b[0;31m             \u001b[0;32mreturn\u001b[0m \u001b[0mself\u001b[0m\u001b[0;34m.\u001b[0m\u001b[0m_readinto_chunked\u001b[0m\u001b[0;34m(\u001b[0m\u001b[0mb\u001b[0m\u001b[0;34m)\u001b[0m\u001b[0;34m\u001b[0m\u001b[0m\n\u001b[0m\u001b[1;32m    484\u001b[0m \u001b[0;34m\u001b[0m\u001b[0m\n\u001b[1;32m    485\u001b[0m         \u001b[0;32mif\u001b[0m \u001b[0mself\u001b[0m\u001b[0;34m.\u001b[0m\u001b[0mlength\u001b[0m \u001b[0;32mis\u001b[0m \u001b[0;32mnot\u001b[0m \u001b[0;32mNone\u001b[0m\u001b[0;34m:\u001b[0m\u001b[0;34m\u001b[0m\u001b[0m\n",
      "\u001b[0;32m~/anaconda3/lib/python3.6/http/client.py\u001b[0m in \u001b[0;36m_readinto_chunked\u001b[0;34m(self, b)\u001b[0m\n\u001b[1;32m    576\u001b[0m         \u001b[0;32mtry\u001b[0m\u001b[0;34m:\u001b[0m\u001b[0;34m\u001b[0m\u001b[0m\n\u001b[1;32m    577\u001b[0m             \u001b[0;32mwhile\u001b[0m \u001b[0;32mTrue\u001b[0m\u001b[0;34m:\u001b[0m\u001b[0;34m\u001b[0m\u001b[0m\n\u001b[0;32m--> 578\u001b[0;31m                 \u001b[0mchunk_left\u001b[0m \u001b[0;34m=\u001b[0m \u001b[0mself\u001b[0m\u001b[0;34m.\u001b[0m\u001b[0m_get_chunk_left\u001b[0m\u001b[0;34m(\u001b[0m\u001b[0;34m)\u001b[0m\u001b[0;34m\u001b[0m\u001b[0m\n\u001b[0m\u001b[1;32m    579\u001b[0m                 \u001b[0;32mif\u001b[0m \u001b[0mchunk_left\u001b[0m \u001b[0;32mis\u001b[0m \u001b[0;32mNone\u001b[0m\u001b[0;34m:\u001b[0m\u001b[0;34m\u001b[0m\u001b[0m\n\u001b[1;32m    580\u001b[0m                     \u001b[0;32mreturn\u001b[0m \u001b[0mtotal_bytes\u001b[0m\u001b[0;34m\u001b[0m\u001b[0m\n",
      "\u001b[0;32m~/anaconda3/lib/python3.6/http/client.py\u001b[0m in \u001b[0;36m_get_chunk_left\u001b[0;34m(self)\u001b[0m\n\u001b[1;32m    544\u001b[0m                 \u001b[0mself\u001b[0m\u001b[0;34m.\u001b[0m\u001b[0m_safe_read\u001b[0m\u001b[0;34m(\u001b[0m\u001b[0;36m2\u001b[0m\u001b[0;34m)\u001b[0m  \u001b[0;31m# toss the CRLF at the end of the chunk\u001b[0m\u001b[0;34m\u001b[0m\u001b[0m\n\u001b[1;32m    545\u001b[0m             \u001b[0;32mtry\u001b[0m\u001b[0;34m:\u001b[0m\u001b[0;34m\u001b[0m\u001b[0m\n\u001b[0;32m--> 546\u001b[0;31m                 \u001b[0mchunk_left\u001b[0m \u001b[0;34m=\u001b[0m \u001b[0mself\u001b[0m\u001b[0;34m.\u001b[0m\u001b[0m_read_next_chunk_size\u001b[0m\u001b[0;34m(\u001b[0m\u001b[0;34m)\u001b[0m\u001b[0;34m\u001b[0m\u001b[0m\n\u001b[0m\u001b[1;32m    547\u001b[0m             \u001b[0;32mexcept\u001b[0m \u001b[0mValueError\u001b[0m\u001b[0;34m:\u001b[0m\u001b[0;34m\u001b[0m\u001b[0m\n\u001b[1;32m    548\u001b[0m                 \u001b[0;32mraise\u001b[0m \u001b[0mIncompleteRead\u001b[0m\u001b[0;34m(\u001b[0m\u001b[0;34mb''\u001b[0m\u001b[0;34m)\u001b[0m\u001b[0;34m\u001b[0m\u001b[0m\n",
      "\u001b[0;32m~/anaconda3/lib/python3.6/http/client.py\u001b[0m in \u001b[0;36m_read_next_chunk_size\u001b[0;34m(self)\u001b[0m\n\u001b[1;32m    504\u001b[0m     \u001b[0;32mdef\u001b[0m \u001b[0m_read_next_chunk_size\u001b[0m\u001b[0;34m(\u001b[0m\u001b[0mself\u001b[0m\u001b[0;34m)\u001b[0m\u001b[0;34m:\u001b[0m\u001b[0;34m\u001b[0m\u001b[0m\n\u001b[1;32m    505\u001b[0m         \u001b[0;31m# Read the next chunk size from the file\u001b[0m\u001b[0;34m\u001b[0m\u001b[0;34m\u001b[0m\u001b[0m\n\u001b[0;32m--> 506\u001b[0;31m         \u001b[0mline\u001b[0m \u001b[0;34m=\u001b[0m \u001b[0mself\u001b[0m\u001b[0;34m.\u001b[0m\u001b[0mfp\u001b[0m\u001b[0;34m.\u001b[0m\u001b[0mreadline\u001b[0m\u001b[0;34m(\u001b[0m\u001b[0m_MAXLINE\u001b[0m \u001b[0;34m+\u001b[0m \u001b[0;36m1\u001b[0m\u001b[0;34m)\u001b[0m\u001b[0;34m\u001b[0m\u001b[0m\n\u001b[0m\u001b[1;32m    507\u001b[0m         \u001b[0;32mif\u001b[0m \u001b[0mlen\u001b[0m\u001b[0;34m(\u001b[0m\u001b[0mline\u001b[0m\u001b[0;34m)\u001b[0m \u001b[0;34m>\u001b[0m \u001b[0m_MAXLINE\u001b[0m\u001b[0;34m:\u001b[0m\u001b[0;34m\u001b[0m\u001b[0m\n\u001b[1;32m    508\u001b[0m             \u001b[0;32mraise\u001b[0m \u001b[0mLineTooLong\u001b[0m\u001b[0;34m(\u001b[0m\u001b[0;34m\"chunk size\"\u001b[0m\u001b[0;34m)\u001b[0m\u001b[0;34m\u001b[0m\u001b[0m\n",
      "\u001b[0;32m~/anaconda3/lib/python3.6/socket.py\u001b[0m in \u001b[0;36mreadinto\u001b[0;34m(self, b)\u001b[0m\n\u001b[1;32m    584\u001b[0m         \u001b[0;32mwhile\u001b[0m \u001b[0;32mTrue\u001b[0m\u001b[0;34m:\u001b[0m\u001b[0;34m\u001b[0m\u001b[0m\n\u001b[1;32m    585\u001b[0m             \u001b[0;32mtry\u001b[0m\u001b[0;34m:\u001b[0m\u001b[0;34m\u001b[0m\u001b[0m\n\u001b[0;32m--> 586\u001b[0;31m                 \u001b[0;32mreturn\u001b[0m \u001b[0mself\u001b[0m\u001b[0;34m.\u001b[0m\u001b[0m_sock\u001b[0m\u001b[0;34m.\u001b[0m\u001b[0mrecv_into\u001b[0m\u001b[0;34m(\u001b[0m\u001b[0mb\u001b[0m\u001b[0;34m)\u001b[0m\u001b[0;34m\u001b[0m\u001b[0m\n\u001b[0m\u001b[1;32m    587\u001b[0m             \u001b[0;32mexcept\u001b[0m \u001b[0mtimeout\u001b[0m\u001b[0;34m:\u001b[0m\u001b[0;34m\u001b[0m\u001b[0m\n\u001b[1;32m    588\u001b[0m                 \u001b[0mself\u001b[0m\u001b[0;34m.\u001b[0m\u001b[0m_timeout_occurred\u001b[0m \u001b[0;34m=\u001b[0m \u001b[0;32mTrue\u001b[0m\u001b[0;34m\u001b[0m\u001b[0m\n",
      "\u001b[0;32m~/anaconda3/lib/python3.6/site-packages/urllib3/contrib/pyopenssl.py\u001b[0m in \u001b[0;36mrecv_into\u001b[0;34m(self, *args, **kwargs)\u001b[0m\n\u001b[1;32m    290\u001b[0m                 \u001b[0;32mraise\u001b[0m\u001b[0;34m\u001b[0m\u001b[0m\n\u001b[1;32m    291\u001b[0m         \u001b[0;32mexcept\u001b[0m \u001b[0mOpenSSL\u001b[0m\u001b[0;34m.\u001b[0m\u001b[0mSSL\u001b[0m\u001b[0;34m.\u001b[0m\u001b[0mWantReadError\u001b[0m\u001b[0;34m:\u001b[0m\u001b[0;34m\u001b[0m\u001b[0m\n\u001b[0;32m--> 292\u001b[0;31m             \u001b[0mrd\u001b[0m \u001b[0;34m=\u001b[0m \u001b[0mutil\u001b[0m\u001b[0;34m.\u001b[0m\u001b[0mwait_for_read\u001b[0m\u001b[0;34m(\u001b[0m\u001b[0mself\u001b[0m\u001b[0;34m.\u001b[0m\u001b[0msocket\u001b[0m\u001b[0;34m,\u001b[0m \u001b[0mself\u001b[0m\u001b[0;34m.\u001b[0m\u001b[0msocket\u001b[0m\u001b[0;34m.\u001b[0m\u001b[0mgettimeout\u001b[0m\u001b[0;34m(\u001b[0m\u001b[0;34m)\u001b[0m\u001b[0;34m)\u001b[0m\u001b[0;34m\u001b[0m\u001b[0m\n\u001b[0m\u001b[1;32m    293\u001b[0m             \u001b[0;32mif\u001b[0m \u001b[0;32mnot\u001b[0m \u001b[0mrd\u001b[0m\u001b[0;34m:\u001b[0m\u001b[0;34m\u001b[0m\u001b[0m\n\u001b[1;32m    294\u001b[0m                 \u001b[0;32mraise\u001b[0m \u001b[0mtimeout\u001b[0m\u001b[0;34m(\u001b[0m\u001b[0;34m'The read operation timed out'\u001b[0m\u001b[0;34m)\u001b[0m\u001b[0;34m\u001b[0m\u001b[0m\n",
      "\u001b[0;32m~/anaconda3/lib/python3.6/site-packages/urllib3/util/wait.py\u001b[0m in \u001b[0;36mwait_for_read\u001b[0;34m(socks, timeout)\u001b[0m\n\u001b[1;32m     31\u001b[0m     \u001b[0;32mor\u001b[0m \u001b[0moptionally\u001b[0m \u001b[0ma\u001b[0m \u001b[0msingle\u001b[0m \u001b[0msocket\u001b[0m \u001b[0;32mif\u001b[0m \u001b[0mpassed\u001b[0m \u001b[0;32min\u001b[0m\u001b[0;34m.\u001b[0m \u001b[0mReturns\u001b[0m \u001b[0ma\u001b[0m \u001b[0mlist\u001b[0m \u001b[0mof\u001b[0m\u001b[0;34m\u001b[0m\u001b[0m\n\u001b[1;32m     32\u001b[0m     sockets that can be read from immediately. \"\"\"\n\u001b[0;32m---> 33\u001b[0;31m     \u001b[0;32mreturn\u001b[0m \u001b[0m_wait_for_io_events\u001b[0m\u001b[0;34m(\u001b[0m\u001b[0msocks\u001b[0m\u001b[0;34m,\u001b[0m \u001b[0mEVENT_READ\u001b[0m\u001b[0;34m,\u001b[0m \u001b[0mtimeout\u001b[0m\u001b[0;34m)\u001b[0m\u001b[0;34m\u001b[0m\u001b[0m\n\u001b[0m\u001b[1;32m     34\u001b[0m \u001b[0;34m\u001b[0m\u001b[0m\n\u001b[1;32m     35\u001b[0m \u001b[0;34m\u001b[0m\u001b[0m\n",
      "\u001b[0;32m~/anaconda3/lib/python3.6/site-packages/urllib3/util/wait.py\u001b[0m in \u001b[0;36m_wait_for_io_events\u001b[0;34m(socks, events, timeout)\u001b[0m\n\u001b[1;32m     24\u001b[0m             \u001b[0mselector\u001b[0m\u001b[0;34m.\u001b[0m\u001b[0mregister\u001b[0m\u001b[0;34m(\u001b[0m\u001b[0msock\u001b[0m\u001b[0;34m,\u001b[0m \u001b[0mevents\u001b[0m\u001b[0;34m)\u001b[0m\u001b[0;34m\u001b[0m\u001b[0m\n\u001b[1;32m     25\u001b[0m         return [key[0].fileobj for key in\n\u001b[0;32m---> 26\u001b[0;31m                 selector.select(timeout) if key[1] & events]\n\u001b[0m\u001b[1;32m     27\u001b[0m \u001b[0;34m\u001b[0m\u001b[0m\n\u001b[1;32m     28\u001b[0m \u001b[0;34m\u001b[0m\u001b[0m\n",
      "\u001b[0;32m~/anaconda3/lib/python3.6/site-packages/urllib3/util/selectors.py\u001b[0m in \u001b[0;36mselect\u001b[0;34m(self, timeout)\u001b[0m\n\u001b[1;32m    436\u001b[0m             fd_events = _syscall_wrapper(self._epoll.poll, True,\n\u001b[1;32m    437\u001b[0m                                          \u001b[0mtimeout\u001b[0m\u001b[0;34m=\u001b[0m\u001b[0mtimeout\u001b[0m\u001b[0;34m,\u001b[0m\u001b[0;34m\u001b[0m\u001b[0m\n\u001b[0;32m--> 438\u001b[0;31m                                          maxevents=max_events)\n\u001b[0m\u001b[1;32m    439\u001b[0m             \u001b[0;32mfor\u001b[0m \u001b[0mfd\u001b[0m\u001b[0;34m,\u001b[0m \u001b[0mevent_mask\u001b[0m \u001b[0;32min\u001b[0m \u001b[0mfd_events\u001b[0m\u001b[0;34m:\u001b[0m\u001b[0;34m\u001b[0m\u001b[0m\n\u001b[1;32m    440\u001b[0m                 \u001b[0mevents\u001b[0m \u001b[0;34m=\u001b[0m \u001b[0;36m0\u001b[0m\u001b[0;34m\u001b[0m\u001b[0m\n",
      "\u001b[0;32m~/anaconda3/lib/python3.6/site-packages/urllib3/util/selectors.py\u001b[0m in \u001b[0;36m_syscall_wrapper\u001b[0;34m(func, _, *args, **kwargs)\u001b[0m\n\u001b[1;32m     62\u001b[0m         and recalculate their timeouts. \"\"\"\n\u001b[1;32m     63\u001b[0m         \u001b[0;32mtry\u001b[0m\u001b[0;34m:\u001b[0m\u001b[0;34m\u001b[0m\u001b[0m\n\u001b[0;32m---> 64\u001b[0;31m             \u001b[0;32mreturn\u001b[0m \u001b[0mfunc\u001b[0m\u001b[0;34m(\u001b[0m\u001b[0;34m*\u001b[0m\u001b[0margs\u001b[0m\u001b[0;34m,\u001b[0m \u001b[0;34m**\u001b[0m\u001b[0mkwargs\u001b[0m\u001b[0;34m)\u001b[0m\u001b[0;34m\u001b[0m\u001b[0m\n\u001b[0m\u001b[1;32m     65\u001b[0m         \u001b[0;32mexcept\u001b[0m \u001b[0;34m(\u001b[0m\u001b[0mOSError\u001b[0m\u001b[0;34m,\u001b[0m \u001b[0mIOError\u001b[0m\u001b[0;34m,\u001b[0m \u001b[0mselect\u001b[0m\u001b[0;34m.\u001b[0m\u001b[0merror\u001b[0m\u001b[0;34m)\u001b[0m \u001b[0;32mas\u001b[0m \u001b[0me\u001b[0m\u001b[0;34m:\u001b[0m\u001b[0;34m\u001b[0m\u001b[0m\n\u001b[1;32m     66\u001b[0m             \u001b[0merrcode\u001b[0m \u001b[0;34m=\u001b[0m \u001b[0;32mNone\u001b[0m\u001b[0;34m\u001b[0m\u001b[0m\n",
      "\u001b[0;31mKeyboardInterrupt\u001b[0m: "
     ]
    }
   ],
   "source": [
    "#Import the necessary methods from tweepy library\n",
    "from tweepy.streaming import StreamListener\n",
    "from tweepy import OAuthHandler\n",
    "from tweepy import Stream\n",
    "import json\n",
    "\n",
    "#This is a basic listener that just prints received tweets to stdout.\n",
    "class MyListener(StreamListener):\n",
    "\n",
    "    def on_data(self, data):\n",
    "        try:\n",
    "            with open('tweets.json', 'a') as f:\n",
    "                f.write(data)\n",
    "                dat = json.loads(data)\n",
    "                print(f\">> {dat['created_at']} {dat['text']}\\n\")\n",
    "                return True\n",
    "        except BaseException as e:\n",
    "            print(f\"--> Error on_data: {str(e)}\")\n",
    "            pass\n",
    "        return True\n",
    "\n",
    "    def on_error(self, status):\n",
    "        print(status)\n",
    "\n",
    "if __name__ == '__main__':\n",
    "\n",
    "    #This handles Twitter authetification and the connection to Twitter Streaming API\n",
    "    auth = OAuthHandler(consumer_key, consumer_secret)\n",
    "    auth.set_access_token(access_token, access_token_secret)\n",
    "    twitter_stream = Stream(auth, MyListener())\n",
    "\n",
    "    #This line filter Twitter Streams to capture data by the keywords: 'python', 'javascript', 'ruby'\n",
    "    twitter_stream.filter(track=['big data', 'data analytic', 'data science', '#bigdata', '#datascience', '#dataanalytic'])"
   ]
  },
  {
   "cell_type": "markdown",
   "metadata": {},
   "source": [
    "## Reading and Understanding the data\n",
    "The data that we stored in tweets.json is in **JSON** format. JSON stands for *JavaScript Object Notation*. This format makes it easy to humans to read the data, and for machines to parse it. Below is an example for one tweet in JSON format. You can see that the tweet contains additional information in addition to the main text which in this example: \"*How #BigData and CRM are Shaping Modern Marketing https:\\/\\/t.co\\/TgUYSUp9jT https:\\/\\/t.co\\/V54kea8cT2*\"."
   ]
  },
  {
   "cell_type": "markdown",
   "metadata": {},
   "source": [
    "{\"created_at\":\"Wed Oct 26 16:32:49 +0000 2016\",\"id\":791316663312457728,\"id_str\":\"791316663312457728\",\"text\":\"How #BigData and CRM are Shaping Modern Marketing https:\\/\\/t.co\\/TgUYSUp9jT https:\\/\\/t.co\\/V54kea8cT2\",\"display_text_range\":[0,73],\"source\":\"\\u003ca href=\\\"http:\\/\\/www.sociallymap.com\\\" rel=\\\"nofollow\\\"\\u003eSociallymap\\u003c\\/a\\u003e\",\"truncated\":false,\"in_reply_to_status_id\":null,\"in_reply_to_status_id_str\":null,\"in_reply_to_user_id\":null,\"in_reply_to_user_id_str\":null,\"in_reply_to_screen_name\":null,\"user\":{\"id\":4327758735,\"id_str\":\"4327758735\",\"name\":\"Globe Trotter BI\",\"screen_name\":\"GlobeTrotter_BI\",\"location\":null,\"url\":null,\"description\":\"* R\\u00e9seau international de consultants BI *      #Data #BusinessIntelligence #bigdata #datascientist #datamanagement\",\"protected\":false,\"verified\":false,\"followers_count\":104,\"friends_count\":212,\"listed_count\":50,\"favourites_count\":13,\"statuses_count\":318,\"created_at\":\"Mon Nov 30 10:15:23 +0000 2015\",\"utc_offset\":null,\"time_zone\":null,\"geo_enabled\":false,\"lang\":\"fr\",\"contributors_enabled\":false,\"is_translator\":false,\"profile_background_color\":\"C0DEED\",\"profile_background_image_url\":\"http:\\/\\/abs.twimg.com\\/images\\/themes\\/theme1\\/bg.png\",\"profile_background_image_url_https\":\"....\",\"favorited\":false,\"retweeted\":false,\"possibly_sensitive\":false,\"filter_level\":\"low\",\"lang\":\"en\",\"timestamp_ms\":\"1477499569143\"}}"
   ]
  },
  {
   "cell_type": "markdown",
   "metadata": {},
   "source": [
    "For the remaining of this lab, we will be using 3 Python libraries; *json* for parsing the data, *pandas* for data manipulation, and *matplotlib* for creating charts. \n",
    "\n",
    "The *json* library is installed by default in Python. You should install *pandas* and *matplotlib* if you don't have them in your machine.\n",
    "\n",
    "We will start first by uploading *json* and *pandas* using the commands below:"
   ]
  },
  {
   "cell_type": "code",
   "execution_count": 3,
   "metadata": {},
   "outputs": [],
   "source": [
    "import json\n",
    "import pandas as pd\n",
    "import matplotlib.pyplot as plt"
   ]
  },
  {
   "cell_type": "markdown",
   "metadata": {},
   "source": [
    "Next we will read the data in into an array that we call tweets."
   ]
  },
  {
   "cell_type": "code",
   "execution_count": 4,
   "metadata": {
    "scrolled": true
   },
   "outputs": [
    {
     "name": "stdout",
     "output_type": "stream",
     "text": [
      "..\n",
      "209 tweets read.\n"
     ]
    }
   ],
   "source": [
    "import sys\n",
    "#specify path of JSON file, e.g., \"C:\\\\Program Files\\\\Anaconda2\\\\tweets.json\" for your local location\n",
    "tweets_data_path = 'tweets.json'\n",
    "\n",
    "tweets_data = []\n",
    "tweets_file = open(tweets_data_path, \"r\")\n",
    "count = 0\n",
    "for line in tweets_file:\n",
    "    try:\n",
    "        if (line == '\\n'):      # skip empty lines\n",
    "            continue\n",
    "        count = count + 1\n",
    "        tweet = json.loads(line)\n",
    "        tweets_data.append(tweet)\n",
    "        if count%100 == 0:\n",
    "            sys.stdout.write('.')\n",
    "        if count%7000 == 0:\n",
    "            sys.stdout.write('\\n')\n",
    "    except Exception as e:\n",
    "        print(e)\n",
    "        continue\n",
    "print(f\"\\n{count} tweets read.\")"
   ]
  },
  {
   "cell_type": "markdown",
   "metadata": {},
   "source": [
    "Next, we will structure the tweets data into a pandas *DataFrame* to simplify the data manipulation. We will start by creating an empty DataFrame called **tweets** using the following command."
   ]
  },
  {
   "cell_type": "code",
   "execution_count": 7,
   "metadata": {},
   "outputs": [],
   "source": [
    "tweets = pd.DataFrame()"
   ]
  },
  {
   "cell_type": "markdown",
   "metadata": {},
   "source": [
    "Next, we will add 3 columns to the **tweets** DataFrame called *text*, *lang*, and *country*, in which *text* column  contains the tweet, *lang* column contains the language in which the tweet was written, and *country* the country from which the tweet was sent."
   ]
  },
  {
   "cell_type": "code",
   "execution_count": 8,
   "metadata": {},
   "outputs": [
    {
     "name": "stdout",
     "output_type": "stream",
     "text": [
      "                                                text lang country\n",
      "0  What Is Big Data Architecture? - DZone Big Dat...   tl    None\n",
      "1  https://t.co/K3u9swv0PF\\nSpecial offer Data Sc...   en    None\n",
      "2  RT @christicash11: @cold_cash2 @salesforce @Be...   en    None\n",
      "3  RT @GonzalezGouveia: #Datavisualization based ...   en    None\n",
      "4  RT @eKENomics: Economists make great data scie...   en    None\n"
     ]
    }
   ],
   "source": [
    "tweets['text'] = list(map(lambda tweet: tweet.get('text', None), tweets_data))\n",
    "tweets['lang'] = list(map(lambda tweet: tweet.get('lang', None), tweets_data))\n",
    "tweets['country'] = list(map(lambda tweet: tweet['place']['country'] if tweet.get('place') != None else None, tweets_data))\n",
    "\n",
    "print(tweets.head())"
   ]
  },
  {
   "cell_type": "markdown",
   "metadata": {},
   "source": [
    "Next, we will create a chart describing the Top 15 countries from which the tweets were sent."
   ]
  },
  {
   "cell_type": "code",
   "execution_count": 9,
   "metadata": {},
   "outputs": [
    {
     "data": {
      "text/plain": [
       "<matplotlib.axes._subplots.AxesSubplot at 0x7f7ceaf3d6d8>"
      ]
     },
     "execution_count": 9,
     "metadata": {},
     "output_type": "execute_result"
    },
    {
     "data": {
      "image/png": "[encoded data removed]",
      "text/plain": [
       "<Figure size 432x288 with 1 Axes>"
      ]
     },
     "metadata": {},
     "output_type": "display_data"
    }
   ],
   "source": [
    "%matplotlib inline\n",
    "tweets_by_country = tweets['country'].value_counts()\n",
    "\n",
    "fig, ax = plt.subplots()\n",
    "ax.tick_params(axis='x', labelsize=10)\n",
    "ax.tick_params(axis='y', labelsize=10)\n",
    "ax.set_xlabel('Countries', fontsize=12)\n",
    "ax.set_ylabel('Number of tweets' , fontsize=12)\n",
    "ax.set_title('Top 15 countries', fontsize=12, fontweight='bold')\n",
    "tweets_by_country[:15].plot(ax=ax, kind='bar', color='blue')"
   ]
  },
  {
   "cell_type": "markdown",
   "metadata": {},
   "source": [
    "### **YOUR TURN**\n",
    "#### Problem01:\n",
    "Create a chart describing the Top 15 languages in which the tweets were written."
   ]
  },
  {
   "cell_type": "code",
   "execution_count": 10,
   "metadata": {
    "scrolled": true
   },
   "outputs": [
    {
     "data": {
      "text/plain": [
       "<matplotlib.axes._subplots.AxesSubplot at 0x7f7ce8e28198>"
      ]
     },
     "execution_count": 10,
     "metadata": {},
     "output_type": "execute_result"
    },
    {
     "data": {
      "image/png": "[encoded data removed]",
      "text/plain": [
       "<Figure size 432x288 with 1 Axes>"
      ]
     },
     "metadata": {},
     "output_type": "display_data"
    }
   ],
   "source": [
    "\n",
    "%matplotlib inline\n",
    "tweets_by_country = tweets['lang'].value_counts()\n",
    "\n",
    "fig, ax = plt.subplots()\n",
    "ax.tick_params(axis='x', labelsize=10)\n",
    "ax.tick_params(axis='y', labelsize=10)\n",
    "ax.set_xlabel('Language', fontsize=12)\n",
    "ax.set_ylabel('Number of tweets' , fontsize=12)\n",
    "ax.set_title('Top 10 language', fontsize=12, fontweight='bold')\n",
    "tweets_by_country[:10].plot(ax=ax, kind='bar', color='blue')"
   ]
  },
  {
   "cell_type": "code",
   "execution_count": 11,
   "metadata": {},
   "outputs": [
    {
     "name": "stdout",
     "output_type": "stream",
     "text": [
      "......................................................................\n",
      "......................................................................\n",
      "......................................................................\n",
      "......................................................................\n",
      "......................................................................\n",
      "......................................................................\n",
      "......................................................................\n",
      "......................................................................\n",
      "......................................................................\n",
      "......................................................................\n",
      "......................................................................\n",
      "......................................................................\n",
      "......................................................................\n",
      "......................................................................\n",
      "......................................................................\n",
      "......................................................................\n",
      "......................................................................\n",
      "..........................\n",
      "121609 tweets read.\n"
     ]
    }
   ],
   "source": [
    "import sys\n",
    "#specify path of JSON file, e.g., \"C:\\\\Program Files\\\\Anaconda2\\\\tweets.json\" for your local location\n",
    "tweets_data_path = './all_tweet.json'\n",
    "\n",
    "tweets_data = []\n",
    "tweets_file = open(tweets_data_path, \"r\")\n",
    "count = 0\n",
    "for line in tweets_file:\n",
    "    try:\n",
    "        if (line == '\\n'):      # skip empty lines\n",
    "            continue\n",
    "        count = count + 1\n",
    "        tweet = json.loads(line)\n",
    "        tweets_data.append(tweet)\n",
    "        if count%100 == 0:\n",
    "            sys.stdout.write('.')\n",
    "        if count%7000 == 0:\n",
    "            sys.stdout.write('\\n')\n",
    "    except Exception as e:\n",
    "        print(e)\n",
    "        continue\n",
    "print(f\"\\n{count} tweets read.\")"
   ]
  },
  {
   "cell_type": "code",
   "execution_count": 12,
   "metadata": {},
   "outputs": [
    {
     "name": "stdout",
     "output_type": "stream",
     "text": [
      "                                                text lang country\n",
      "0                             @MisterHeartz ในดีค้าบ   th    None\n",
      "1                         RT @MisterHeartz: ฝัมดีจ้า   th    None\n",
      "2  RT @withpeachy: เราซื้อที่ @koriico นะคะ ใครอย...   th    None\n",
      "3  RT @withpeachy: — Heimish Hydrogel Eye Patch B...   th    None\n",
      "4  RT @KIKI48_xx: สำหรับคนที่ถามเรื่องออกกำลังกาย...   th    None\n",
      "5  RT @ausika_w: 2รูปนี้คือผ่านไปไม่ถึงครึ่งชั่วโ...   th    None\n",
      "6  RT @FAIIP_92: แม่จ๋าาาาาา นึกถึงใครไม่ได้แล้ว ...   th    None\n",
      "7  RT @Oneandonlyk0114: ที่ 2 มะอาววว จะเอาที่ 1 ...   th    None\n",
      "8  RT @dam_dt: EXOร่วมงานกับแบรนด์ดังๆแนวหน้าระดั...   th    None\n",
      "9    แงงง นุดีใจ ไม่เจอคนที่มองพี่ยูนโพผมานานแล้วววว   th    None\n"
     ]
    }
   ],
   "source": [
    "tweets = pd.DataFrame()\n",
    "tweets['text'] = list(map(lambda tweet: tweet.get('text', None), tweets_data))\n",
    "tweets['lang'] = list(map(lambda tweet: tweet.get('lang', None), tweets_data))\n",
    "tweets['country'] = list(map(lambda tweet: tweet['place']['country'] if tweet.get('place') != None else None, tweets_data))\n",
    "\n",
    "print(tweets.head(10))"
   ]
  },
  {
   "cell_type": "code",
   "execution_count": 13,
   "metadata": {},
   "outputs": [
    {
     "data": {
      "text/plain": [
       "<matplotlib.axes._subplots.AxesSubplot at 0x7f7ceb0f6470>"
      ]
     },
     "execution_count": 13,
     "metadata": {},
     "output_type": "execute_result"
    },
    {
     "data": {
      "image/png": "[encoded data removed]",
      "text/plain": [
       "<Figure size 432x288 with 1 Axes>"
      ]
     },
     "metadata": {},
     "output_type": "display_data"
    }
   ],
   "source": [
    "%matplotlib inline\n",
    "tweets_by_country = tweets['lang'].value_counts()\n",
    "\n",
    "fig, ax = plt.subplots()\n",
    "ax.tick_params(axis='x', labelsize=10)\n",
    "ax.tick_params(axis='y', labelsize=10)\n",
    "ax.set_xlabel('Language', fontsize=12)\n",
    "ax.set_ylabel('Number of tweets' , fontsize=12)\n",
    "ax.set_title('Top 15 language', fontsize=12, fontweight='bold')\n",
    "tweets_by_country[:15].plot(ax=ax, kind='bar', color='blue')"
   ]
  },
  {
   "cell_type": "code",
   "execution_count": null,
   "metadata": {},
   "outputs": [],
   "source": []
  }
 ],
 "metadata": {
  "anaconda-cloud": {},
  "kernelspec": {
   "display_name": "Python 3",
   "language": "python",
   "name": "python3"
  },
  "language_info": {
   "codemirror_mode": {
    "name": "ipython",
    "version": 3
   },
   "file_extension": ".py",
   "mimetype": "text/x-python",
   "name": "python",
   "nbconvert_exporter": "python",
   "pygments_lexer": "ipython3",
   "version": "3.6.5"
  }
 },
 "nbformat": 4,
 "nbformat_minor": 1
}
