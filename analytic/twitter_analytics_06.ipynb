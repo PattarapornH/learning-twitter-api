{
 "cells": [
  {
   "cell_type": "markdown",
   "metadata": {},
   "source": [
    "# Analysis of Twitter Data\n",
    "## Time Series Visualisation\n",
    "\n",
    "Another interesting aspect of analysing data from Twitter is the possibility to observe the distribution of tweets over time. In other words, if we organise the frequencies into temporal buckets, we could observe how Twitter users react to real-time events.\n",
    "\n",
    "One of our favourite tools for data analysis with Python is Pandas, which also has a fairly decent support for time series. As an example, let’s track the hashtag `#bigdata` to observe what happened during the first match."
   ]
  },
  {
   "cell_type": "code",
   "execution_count": 1,
   "metadata": {},
   "outputs": [],
   "source": [
    "# from the old code\n",
    "import re\n",
    " \n",
    "emoticons_str = r\"\"\"\n",
    "    (?:\n",
    "        [:=;] # Eyes\n",
    "        [oO\\-]? # Nose (optional)\n",
    "        [D\\)\\]\\(\\]/\\\\OpP] # Mouth\n",
    "    )\"\"\"\n",
    " \n",
    "regex_str = [\n",
    "    emoticons_str,\n",
    "    r'<[^>]+>', # HTML tags\n",
    "    r'(?:@[\\w_]+)', # @-mentions\n",
    "    r\"(?:\\#+[\\w_]+[\\w\\'_\\-]*[\\w_]+)\", # hash-tags\n",
    "    r'http[s]?://(?:[a-z]|[0-9]|[$-_@.&amp;+]|[!*\\(\\),]|(?:%[0-9a-f][0-9a-f]))+', # URLs\n",
    "\n",
    "    r'(?:(?:\\d+,?)+(?:\\.?\\d+)?)', # numbers\n",
    "    r\"(?:[a-z][a-z'\\-_]+[a-z])\", # words with - and '\n",
    "    r'(?:[\\w_]+)', # other words\n",
    "    r'(?:\\S)' # anything else\n",
    "]\n",
    "    \n",
    "tokens_re = re.compile(r'('+'|'.join(regex_str)+')', re.VERBOSE | re.IGNORECASE)\n",
    "emoticon_re = re.compile(r'^'+emoticons_str+'$', re.VERBOSE | re.IGNORECASE)\n",
    " \n",
    "def tokenize(s):\n",
    "    return tokens_re.findall(s)\n",
    " \n",
    "def preprocess(s, lowercase=True):\n",
    "    tokens = tokenize(s)\n",
    "    if lowercase:\n",
    "        tokens = [token if emoticon_re.search(token) else token.lower() for token in tokens]\n",
    "    return tokens"
   ]
  },
  {
   "cell_type": "markdown",
   "metadata": {
    "collapsed": true
   },
   "source": [
    "In the main loop which reads all the tweets, we simply track the occurrences of the hashtag, i.e. we can refactor the code from the previous episodes into something similar to:"
   ]
  },
  {
   "cell_type": "code",
   "execution_count": 4,
   "metadata": {},
   "outputs": [
    {
     "name": "stdout",
     "output_type": "stream",
     "text": [
      ".................................................................\n",
      "Done..\n",
      "DatetimeIndex(['2016-10-27 14:07:16', '2016-10-27 14:07:36',\n",
      "               '2016-10-27 14:07:47', '2016-10-27 14:07:59',\n",
      "               '2016-10-27 14:08:28', '2016-10-27 14:08:56',\n",
      "               '2016-10-27 14:10:14', '2016-10-27 14:10:19',\n",
      "               '2016-10-27 14:10:20', '2016-10-27 14:10:47',\n",
      "               ...\n",
      "               '2016-10-28 10:42:41', '2016-10-28 10:42:44',\n",
      "               '2016-10-28 10:42:49', '2016-10-28 10:43:04',\n",
      "               '2016-10-28 10:43:05', '2016-10-28 10:43:08',\n",
      "               '2016-10-28 10:43:12', '2016-10-28 10:43:18',\n",
      "               '2016-10-28 10:43:19', '2016-10-28 10:43:19'],\n",
      "              dtype='datetime64[ns]', length=17374, freq=None)\n",
      "2016-10-27 14:07:16    1\n",
      "2016-10-27 14:07:36    1\n",
      "2016-10-27 14:07:47    1\n",
      "2016-10-27 14:07:59    1\n",
      "2016-10-27 14:08:28    1\n",
      "2016-10-27 14:08:56    1\n",
      "2016-10-27 14:10:14    1\n",
      "2016-10-27 14:10:19    1\n",
      "2016-10-27 14:10:20    1\n",
      "2016-10-27 14:10:47    1\n",
      "2016-10-27 14:10:55    1\n",
      "2016-10-27 14:12:48    1\n",
      "2016-10-27 14:13:12    1\n",
      "2016-10-27 14:13:17    1\n",
      "2016-10-27 14:13:46    1\n",
      "2016-10-27 14:14:03    1\n",
      "2016-10-27 14:15:02    1\n",
      "2016-10-27 14:15:33    1\n",
      "2016-10-27 14:15:39    1\n",
      "2016-10-27 14:15:41    1\n",
      "2016-10-27 14:16:30    1\n",
      "2016-10-27 14:16:31    1\n",
      "2016-10-27 14:17:25    1\n",
      "2016-10-27 14:18:29    1\n",
      "2016-10-27 14:19:11    1\n",
      "2016-10-27 14:19:46    1\n",
      "2016-10-27 14:19:53    1\n",
      "2016-10-27 14:20:02    1\n",
      "2016-10-27 14:20:39    1\n",
      "2016-10-27 14:22:52    1\n",
      "                      ..\n",
      "2016-10-28 10:41:39    1\n",
      "2016-10-28 10:41:40    1\n",
      "2016-10-28 10:41:41    1\n",
      "2016-10-28 10:41:45    1\n",
      "2016-10-28 10:41:47    1\n",
      "2016-10-28 10:41:47    1\n",
      "2016-10-28 10:42:07    1\n",
      "2016-10-28 10:42:07    1\n",
      "2016-10-28 10:42:16    1\n",
      "2016-10-28 10:42:22    1\n",
      "2016-10-28 10:42:24    1\n",
      "2016-10-28 10:42:26    1\n",
      "2016-10-28 10:42:29    1\n",
      "2016-10-28 10:42:31    1\n",
      "2016-10-28 10:42:32    1\n",
      "2016-10-28 10:42:32    1\n",
      "2016-10-28 10:42:33    1\n",
      "2016-10-28 10:42:33    1\n",
      "2016-10-28 10:42:38    1\n",
      "2016-10-28 10:42:40    1\n",
      "2016-10-28 10:42:41    1\n",
      "2016-10-28 10:42:44    1\n",
      "2016-10-28 10:42:49    1\n",
      "2016-10-28 10:43:04    1\n",
      "2016-10-28 10:43:05    1\n",
      "2016-10-28 10:43:08    1\n",
      "2016-10-28 10:43:12    1\n",
      "2016-10-28 10:43:18    1\n",
      "2016-10-28 10:43:19    1\n",
      "2016-10-28 10:43:19    1\n",
      "Length: 17374, dtype: int64\n",
      "2016-10-27 14:00:00      6\n",
      "2016-10-27 14:10:00     21\n",
      "2016-10-27 14:20:00     18\n",
      "2016-10-27 14:30:00     18\n",
      "2016-10-27 14:40:00     22\n",
      "2016-10-27 14:50:00     71\n",
      "2016-10-27 15:00:00    252\n",
      "2016-10-27 15:10:00    207\n",
      "2016-10-27 15:20:00    214\n",
      "2016-10-27 15:30:00    219\n",
      "2016-10-27 15:40:00    184\n",
      "2016-10-27 15:50:00    200\n",
      "2016-10-27 16:00:00    338\n",
      "2016-10-27 16:10:00    295\n",
      "2016-10-27 16:20:00    261\n",
      "2016-10-27 16:30:00    322\n",
      "2016-10-27 16:40:00    316\n",
      "2016-10-27 16:50:00    230\n",
      "2016-10-27 17:00:00    222\n",
      "2016-10-27 17:10:00    174\n",
      "2016-10-27 17:20:00    251\n",
      "2016-10-27 17:30:00    230\n",
      "2016-10-27 17:40:00    238\n",
      "2016-10-27 17:50:00    310\n",
      "2016-10-27 18:00:00    299\n",
      "2016-10-27 18:10:00    272\n",
      "2016-10-27 18:20:00    157\n",
      "2016-10-27 18:30:00    179\n",
      "2016-10-27 18:40:00    274\n",
      "2016-10-27 18:50:00    279\n",
      "                      ... \n",
      "2016-10-28 05:50:00     94\n",
      "2016-10-28 06:00:00    133\n",
      "2016-10-28 06:10:00    148\n",
      "2016-10-28 06:20:00     99\n",
      "2016-10-28 06:30:00    166\n",
      "2016-10-28 06:40:00    110\n",
      "2016-10-28 06:50:00    116\n",
      "2016-10-28 07:00:00    125\n",
      "2016-10-28 07:10:00    128\n",
      "2016-10-28 07:20:00    107\n",
      "2016-10-28 07:30:00     90\n",
      "2016-10-28 07:40:00    120\n",
      "2016-10-28 07:50:00     85\n",
      "2016-10-28 08:00:00    110\n",
      "2016-10-28 08:10:00    120\n",
      "2016-10-28 08:20:00    107\n",
      "2016-10-28 08:30:00    154\n",
      "2016-10-28 08:40:00    103\n",
      "2016-10-28 08:50:00    115\n",
      "2016-10-28 09:00:00    169\n",
      "2016-10-28 09:10:00    120\n",
      "2016-10-28 09:20:00    138\n",
      "2016-10-28 09:30:00    157\n",
      "2016-10-28 09:40:00    110\n",
      "2016-10-28 09:50:00    240\n",
      "2016-10-28 10:00:00    246\n",
      "2016-10-28 10:10:00    175\n",
      "2016-10-28 10:20:00    205\n",
      "2016-10-28 10:30:00    162\n",
      "2016-10-28 10:40:00     54\n",
      "Freq: 10T, Length: 125, dtype: int64\n"
     ]
    }
   ],
   "source": [
    "import pandas\n",
    "import json\n",
    "import sys\n",
    "\n",
    "dates_BIGDATA = []\n",
    "\n",
    "#fname = 'C:\\\\Program Files\\\\Anaconda2\\\\tweets_bigData_dataAnalytic.json'\n",
    "fname = 'tweets_bigData_dataAnalytic_small.json'\n",
    "\n",
    "f = open(fname, 'r')\n",
    "# f is the file pointer to the JSON data set\n",
    "count = 1\n",
    "for line in f:\n",
    "    if (line == '\\n'):      # skip empty lines\n",
    "        continue\n",
    "    count = count + 1\n",
    "    if count%500 == 0:\n",
    "        sys.stdout.write('.')\n",
    "    if count%35000 == 0:\n",
    "        sys.stdout.write('\\n')\n",
    "    tweet = json.loads(line)\n",
    "    # substitute, e.g. \\u2026, with space\n",
    "    tw = re.sub(r'[^\\x00-\\x7F]+',' ', tweet['text'])\n",
    "    # let's focus on hashtags only at the moment\n",
    "    terms_hash = [term for term in preprocess(tw) if term.startswith('#')]\n",
    "    # track when the hashtag is mentioned\n",
    "    if '#bigdata' in terms_hash:\n",
    "        dates_BIGDATA.append(tweet['created_at'])\n",
    "print('\\nDone..')\n",
    "\n",
    "# a list of \"1\" to count the hashtags\n",
    "ones = [1]*len(dates_BIGDATA)\n",
    "# the index of the series\n",
    "idx = pandas.DatetimeIndex(dates_BIGDATA)\n",
    "print(idx)\n",
    "# the actual series (at series of 1s for the moment)\n",
    "BIGDATA = pandas.Series(ones, index=idx)\n",
    "print(BIGDATA)\n",
    "\n",
    "# Resampling / bucketing\n",
    "per_10minute = BIGDATA.resample('10Min').sum().fillna(0)\n",
    "print(per_10minute)"
   ]
  },
  {
   "cell_type": "markdown",
   "metadata": {},
   "source": [
    "The last line is what allows us to track the frequencies over time. The series is re-sampled with intervals of 10 minutes. This means all the tweets falling within a particular minute will be aggregated, more precisely they will be summed up. The time index will not keep track of the seconds anymore. If there is no tweet in a particular minute, the `fillna()` function will fill the blanks with zeros.\n",
    "\n",
    "To put the time series, run these commands:"
   ]
  },
  {
   "cell_type": "code",
   "execution_count": 5,
   "metadata": {},
   "outputs": [
    {
     "data": {
      "image/png": "[encoded data removed]",
      "text/plain": [
       "<Figure size 432x288 with 1 Axes>"
      ]
     },
     "metadata": {},
     "output_type": "display_data"
    }
   ],
   "source": [
    "%matplotlib inline\n",
    "import matplotlib.pyplot as plt\n",
    "per_10minute.plot()\n",
    "plt.gcf().autofmt_xdate()\n",
    "plt.show()"
   ]
  },
  {
   "cell_type": "markdown",
   "metadata": {},
   "source": [
    "Rather than just observing one sequence at a time, we could compare different series to observe how the matches has evolved. \n",
    "\n",
    "So let’s refactor the code for the time series, keeping track of the three different hashtags `#bigdata` and `#datascience` into the corresponding pandas.Series."
   ]
  },
  {
   "cell_type": "code",
   "execution_count": 6,
   "metadata": {
    "scrolled": true
   },
   "outputs": [
    {
     "name": "stdout",
     "output_type": "stream",
     "text": [
      ".................................................................\n",
      "wait..\n",
      "Done..\n"
     ]
    }
   ],
   "source": [
    "import pandas\n",
    "import json\n",
    "import sys\n",
    "\n",
    "dates_BIGDATA = []\n",
    "dates_DATASCIENCE = []\n",
    "\n",
    "#fname = 'C:\\\\Program Files\\\\Anaconda2\\\\tweets_bigData_dataAnalytic.json'\n",
    "fname = 'tweets_bigData_dataAnalytic_small.json'\n",
    "\n",
    "f = open(fname, 'r')\n",
    "# f is the file pointer to the JSON data set\n",
    "count = 1\n",
    "for line in f:\n",
    "    if (line == '\\n'):      # skip empty lines\n",
    "        continue\n",
    "    count = count + 1\n",
    "    if count%500 == 0:\n",
    "        sys.stdout.write('.')\n",
    "    if count%35000 == 0:\n",
    "        sys.stdout.write('\\n')\n",
    "    tweet = json.loads(line)\n",
    "    # substitute, e.g. \\u2026, with space\n",
    "    tw = re.sub(r'[^\\x00-\\x7F]+',' ', tweet['text'])\n",
    "    # let's focus on hashtags only at the moment\n",
    "    terms_hash = [term for term in preprocess(tw) if term.startswith('#')]\n",
    "    # track when the hashtag is mentioned\n",
    "    if '#bigdata' in terms_hash:\n",
    "        dates_BIGDATA.append(tweet['created_at'])\n",
    "    if '#datascience' in terms_hash:\n",
    "        dates_DATASCIENCE.append(tweet['created_at'])\n",
    "\n",
    "print('\\nwait..')\n",
    "# a list of \"1\" to count the hashtags\n",
    "ones = [1]*len(dates_BIGDATA)\n",
    "# the index of the series\n",
    "idx = pandas.DatetimeIndex(dates_BIGDATA)\n",
    "# the actual series (at series of 1s for the moment)\n",
    "BIGDATA = pandas.Series(ones, index=idx)\n",
    "# Resampling / bucketing\n",
    "bd_per_minute = BIGDATA.resample('10Min').sum().fillna(0)\n",
    "\n",
    "ones = [1]*len(dates_DATASCIENCE)\n",
    "# the index of the series\n",
    "idx = pandas.DatetimeIndex(dates_DATASCIENCE)\n",
    "# the actual series (at series of 1s for the moment)\n",
    "DATASCIENCE = pandas.Series(ones, index=idx)\n",
    "# Resampling / bucketing\n",
    "ds_per_minute = DATASCIENCE.resample('10Min').sum().fillna(0)\n",
    "print('Done..')"
   ]
  },
  {
   "cell_type": "code",
   "execution_count": 7,
   "metadata": {},
   "outputs": [],
   "source": [
    "# all the data together\n",
    "match_data = dict(BigData=bd_per_minute, DataScience=ds_per_minute)\n",
    "# we need a DataFrame, to accommodate multiple series\n",
    "all_matches = pandas.DataFrame(data=match_data, index=bd_per_minute.index)\n",
    "# Resampling as above\n",
    "all_matches = all_matches.resample('10Min').sum().fillna(0)"
   ]
  },
  {
   "cell_type": "code",
   "execution_count": 8,
   "metadata": {},
   "outputs": [
    {
     "data": {
      "image/png": "[encoded data removed]",
      "text/plain": [
       "<Figure size 432x288 with 1 Axes>"
      ]
     },
     "metadata": {},
     "output_type": "display_data"
    }
   ],
   "source": [
    "%matplotlib inline\n",
    "import matplotlib.pyplot as plt\n",
    "all_matches.plot()\n",
    "plt.gcf().autofmt_xdate()\n",
    "plt.show()"
   ]
  },
  {
   "cell_type": "code",
   "execution_count": 9,
   "metadata": {},
   "outputs": [
    {
     "name": "stdout",
     "output_type": "stream",
     "text": [
      "......................................................................\n",
      "......................................................................\n",
      "......................................................................\n",
      ".................................\n",
      "wait..\n",
      "Done..\n"
     ]
    }
   ],
   "source": [
    "## Your turn now\n",
    "## Rather than obeserve the hastags, \n",
    "## modify the code to observe the co-occurrences,\n",
    "## such as '#bigdata', '#datascience', ...\n",
    "\n",
    "import pandas\n",
    "import json\n",
    "import sys\n",
    "\n",
    "dates_THEVOICETH = []\n",
    "dates_MTC = []\n",
    "\n",
    "#fname = 'C:\\\\Program Files\\\\Anaconda2\\\\tweets_bigData_dataAnalytic.json'\n",
    "fname = 'all_tweet.json'\n",
    "\n",
    "f = open(fname, 'r')\n",
    "# f is the file pointer to the JSON data set\n",
    "count = 1\n",
    "for line in f:\n",
    "    if (line == '\\n'):      # skip empty lines\n",
    "        continue\n",
    "    count = count + 1\n",
    "    if count%500 == 0:\n",
    "        sys.stdout.write('.')\n",
    "    if count%35000 == 0:\n",
    "        sys.stdout.write('\\n')\n",
    "    tweet = json.loads(line)\n",
    "    # substitute, e.g. \\u2026, with space\n",
    "    tw = re.sub(r'[^\\x00-\\x7F]+',' ', tweet['text'])\n",
    "    # let's focus on hashtags only at the moment\n",
    "    terms_hash = [term for term in preprocess(tw) if term.startswith('#')]\n",
    "    # track when the hashtag is mentioned\n",
    "    if '#thevoiceth' in terms_hash:\n",
    "        dates_THEVOICETH.append(tweet['created_at'])\n",
    "    if '#MasterChefThailand' in terms_hash:\n",
    "        dates_MTC.append(tweet['created_at'])\n",
    "\n",
    "print('\\nwait..')\n",
    "# a list of \"1\" to count the hashtags\n",
    "ones = [1]*len(dates_THEVOICETH)\n",
    "# the index of the series\n",
    "idx = pandas.DatetimeIndex(dates_THEVOICETH)\n",
    "# the actual series (at series of 1s for the moment)\n",
    "THEVOICE = pandas.Series(ones, index=idx)\n",
    "# Resampling / bucketing\n",
    "tv_per_minute = THEVOICE.resample('10Min').sum().fillna(0)\n",
    "\n",
    "ones = [1]*len(dates_MTC)\n",
    "# the index of the series\n",
    "idx = pandas.DatetimeIndex(dates_MTC)\n",
    "# the actual series (at series of 1s for the moment)\n",
    "MTC = pandas.Series(ones, index=idx)\n",
    "# Resampling / bucketing\n",
    "mtc_per_minute = MTC.resample('10Min').sum().fillna(0)\n",
    "print('Done..')"
   ]
  },
  {
   "cell_type": "code",
   "execution_count": 10,
   "metadata": {},
   "outputs": [],
   "source": [
    "# all the data together\n",
    "match_data = dict(Thevoice=tv_per_minute, Masterchef=mtc_per_minute)\n",
    "# we need a DataFrame, to accommodate multiple series\n",
    "all_matches = pandas.DataFrame(data=match_data, index=tv_per_minute.index)\n",
    "# Resampling as above\n",
    "all_matches = all_matches.resample('10Min').sum().fillna(0)"
   ]
  },
  {
   "cell_type": "code",
   "execution_count": 11,
   "metadata": {},
   "outputs": [
    {
     "data": {
      "image/png": "[encoded data removed]",
      "text/plain": [
       "<Figure size 432x288 with 1 Axes>"
      ]
     },
     "metadata": {},
     "output_type": "display_data"
    }
   ],
   "source": [
    "%matplotlib inline\n",
    "import matplotlib.pyplot as plt\n",
    "all_matches.plot()\n",
    "plt.gcf().autofmt_xdate()\n",
    "plt.show()"
   ]
  },
  {
   "cell_type": "code",
   "execution_count": null,
   "metadata": {},
   "outputs": [],
   "source": []
  }
 ],
 "metadata": {
  "anaconda-cloud": {},
  "kernelspec": {
   "display_name": "Python 3",
   "language": "python",
   "name": "python3"
  },
  "language_info": {
   "codemirror_mode": {
    "name": "ipython",
    "version": 3
   },
   "file_extension": ".py",
   "mimetype": "text/x-python",
   "name": "python",
   "nbconvert_exporter": "python",
   "pygments_lexer": "ipython3",
   "version": "3.6.5"
  }
 },
 "nbformat": 4,
 "nbformat_minor": 1
}
