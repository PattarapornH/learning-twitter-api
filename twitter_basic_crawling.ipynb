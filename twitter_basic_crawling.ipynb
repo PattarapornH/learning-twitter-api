{
 "cells": [
  {
   "cell_type": "markdown",
   "metadata": {},
   "source": [
    "# Basic Retrieval of Twitter Data\n",
    "\n",
    "Twitter provides REST APIs you can use to interact with their service. There is also a bunch of Python-based clients out there that we can use without re-inventing the wheel. In particular, Tweepy in one of the most interesting and straightforward to use, so let’s install it:\n",
    "\n",
    "```\n",
    "pip install tweepy\n",
    "```\n",
    "\n",
    "## Getting Twitter API keys\n",
    "In order to access Twitter Streaming API, we need to get 4 pieces of information from Twitter: *API key*, *API secret*, *Access token* and *Access token secret*. Follow the steps below to get all these 4 elements:\n",
    "* Create a twitter account if you do not already have one.\n",
    "* Go to https://apps.twitter.com/ and log in with your twitter credentials.\n",
    "* Click \"Create New App\"\n",
    "* Fill out the form, agree to the terms, and click \"Create your Twitter application\"\n",
    "* In the next page, click on \"API keys\" tab, and copy your \"API key\" and \"API secret\".\n",
    "* Scroll down and click \"Create my access token\", and copy your \"Access token\" and \"Access token secret\"."
   ]
  },
  {
   "cell_type": "code",
   "execution_count": null,
   "metadata": {},
   "outputs": [],
   "source": [
    "import tweepy\n",
    "\n",
    "consumer_key = 'YOUR-CONSUMER-KEY'\n",
    "consumer_secret = 'YOUR-CONSUMER-SECRET'\n",
    "access_token = 'YOUR-ACCESS-TOKEN'\n",
    "access_secret = 'YOUR-ACCESS-SECRET'\n",
    "\n",
    "# Creating the authentication object\n",
    "auth = tweepy.OAuthHandler(consumer_key, consumer_secret)\n",
    "# Setting your access token and secret\n",
    "auth.set_access_token(access_token, access_secret)\n",
    "\n",
    "# Creating the API object while passing in auth information\n",
    "api = tweepy.API(auth)"
   ]
  },
  {
   "cell_type": "markdown",
   "metadata": {},
   "source": [
    "## 1) Accessing users' timeline\n",
    "\n",
    "### 1.1 Your Timeline\n",
    "In this example, we'll be pulling the ten most recent tweets from your Twitter feed. We'll do this by using the API object's `home_timeline()` function. We can then store the result in a variable, and loop through it to print the results."
   ]
  },
  {
   "cell_type": "code",
   "execution_count": null,
   "metadata": {},
   "outputs": [],
   "source": [
    "# Using the API object to get tweets from your timeline, and storing it in a variable called public_tweets\n",
    "public_tweets = api.home_timeline()\n",
    "# foreach through all tweets pulled\n",
    "for tweet in public_tweets:\n",
    "    # printing the text stored inside the tweet object\n",
    "    print(tweet.text)\n",
    "    print()"
   ]
  },
  {
   "cell_type": "markdown",
   "metadata": {},
   "source": [
    "### 1.2 Tweets from a Specific User\n",
    "In this example, we'll simply pull the latest twenty tweets from a specific user.\n",
    "\n",
    "From the <a href=\"http://docs.tweepy.org/en/v3.5.0/api.html\" target=\"_blank\">Tweepy documentation</a>, we find that the `user_timeline()` function is what we're looking for.\n",
    "\n",
    "<img src=\"function_user_timeline.png\" alt=\"The user_timeline() function\" title=\"The user_timeline() function\" width=\"60%\" align=\"left\" />"
   ]
  },
  {
   "cell_type": "markdown",
   "metadata": {},
   "source": [
    "We can see that the `user_timeline()` function has some useful parameters we can use, specifically `id` (the ID of the user) and `count` (the amount of tweets we want to pull). Note that we can only pull a limited number of tweets per query due to Twitter's <a href=\"https://developer.twitter.com/en/docs/basics/rate-limiting\" target=\"_blank\">rate limits</a>.\n",
    "\n",
    "We can create variables to store the amount of tweets we want to pull (count), and the user we want to pull them from (name). We can then call the `user_timeline()` function with those two parameters."
   ]
  },
  {
   "cell_type": "code",
   "execution_count": null,
   "metadata": {},
   "outputs": [],
   "source": [
    "# The Twitter user who we want to get tweets from\n",
    "name = \"TomHolland1996\"\n",
    "\n",
    "# Number of tweets to pull\n",
    "tweetCount = 20\n",
    "\n",
    "# Calling the user_timeline function with our parameters\n",
    "results = api.user_timeline(id=name, count=tweetCount)\n",
    "\n",
    "# foreach through all tweets pulled\n",
    "for tweet in results:\n",
    "    # printing the text stored inside the tweet object\n",
    "    print(tweet.text)\n",
    "    print()"
   ]
  },
  {
   "cell_type": "markdown",
   "metadata": {
    "collapsed": true
   },
   "source": [
    "### The JSON behind the Results\n",
    "In the example above, we printed the text from each tweet using `tweet.text`. To refer to specific attributes of each tweet object, we have to look at the JSON returned by the Twitter API.\n",
    "\n",
    "The result you receive from the Twitter API is in a JSON format, and has quite an amount of information attached. You can see the entire returned JSON object here."
   ]
  },
  {
   "cell_type": "code",
   "execution_count": null,
   "metadata": {},
   "outputs": [],
   "source": [
    "# The Twitter user who we want to get tweets from\n",
    "name = \"TomHolland1996\"\n",
    "\n",
    "# Number of tweets to pull\n",
    "tweetCount = 20\n",
    "\n",
    "# Calling the user_timeline function with our parameters\n",
    "results = api.user_timeline(id=name, count=tweetCount)\n",
    "\n",
    "\n",
    "# foreach through all tweets pulled\n",
    "for tweet in results:\n",
    "    # printing the tweet object in a JSON format.\n",
    "    print(tweet)\n",
    "    print()"
   ]
  },
  {
   "cell_type": "markdown",
   "metadata": {},
   "source": [
    "Note that you can print any specified attribute from the JSON object, e.g.,\n",
    "> the date the tweet was create by `print(tweet.created_at)`,<br>\n",
    "> the name of the tweeter by `print(tweet.user.screen_name)`,<br>\n",
    "> or the location of the tweeter by `print(tweet.user.location)`\n",
    "\n",
    "If you need to dump each JSON object, you can use the following statements:\n",
    "`import json`\n",
    "and\n",
    "`json_str = json.dumps(tweet._json)`\n",
    "\n",
    "### 1.3 Finding Tweets using a Keyword\n",
    "Getting the most recent tweets that contain a keyword. This can be extremely useful if you want to monitor specifically mentioned topics in the Twitter world, or even to see how your business is getting mentioned.\n",
    "\n",
    "From the <a href=\"http://docs.tweepy.org/en/v3.5.0/api.html\" target=\"_blank\">Tweepy documentation</a>, the `search()` function is the best tool to accomplish our goal.\n",
    "\n",
    "<img src=\"function_search.png\" alt=\"The search() function\" title=\"The search() function\" width=\"60%\" align=\"left\" />"
   ]
  },
  {
   "cell_type": "markdown",
   "metadata": {},
   "source": [
    "The most important parameter here is `q` (the query parameter), which is the keyword we're searching for.\n",
    "\n",
    "We can also set the language parameter so we don't get any tweets from an unwanted language. Let's only return English (\"en\") tweets.\n",
    "\n",
    "We can now modify our code to reflect the changes we want to make. We first create variables to store our parameters (query and language), and then call the function via the API object. Let's also print the screen name, of the user that created the tweet, in our loop."
   ]
  },
  {
   "cell_type": "code",
   "execution_count": null,
   "metadata": {},
   "outputs": [],
   "source": [
    "# The search term you want to find\n",
    "query = \"SPECIFIC-KEYWORDS\"\n",
    "\n",
    "# Language code (follows ISO 639-1 standards)\n",
    "language = \"en\"\n",
    "\n",
    "# Calling the search function with our parameters\n",
    "results = api.search(q=query, lang=language)\n",
    "\n",
    "# foreach through all tweets pulled\n",
    "for tweet in results:\n",
    "    # printing the user's screen name with his corresponding tweet\n",
    "    print(tweet.user.screen_name,\"Tweeted:\",tweet.text)\n",
    "    print()"
   ]
  },
  {
   "cell_type": "markdown",
   "metadata": {},
   "source": [
    "## 2) Depicting Users' Relationship\n",
    "Normally, users follow their interests on Twitter through both one-way and mutual following relationships. There are two kinds of person related to a user:\n",
    "* Friends - persons whom you are followed\n",
    "* Followers - persons who follow you\n",
    "\n",
    "### 2.1 Friends\n",
    "From the <a href=\"http://docs.tweepy.org/en/v3.5.0/api.html\" target=\"_blank\">Tweepy documentation</a>, the `friends_ids()` together with `get_user()` functions are used to accomplish our goal.\n",
    "\n",
    "<img src=\"function_friends_ids.png\" alt=\"The friends_ids() function\" title=\"The friends_ids() function\" width=\"60%\" align=\"left\" />\n",
    "<br>\n",
    "<img src=\"function_get_user.png\" alt=\"The get_user() function\" title=\"The get_user() function\" width=\"60%\" align=\"left\" />"
   ]
  },
  {
   "cell_type": "code",
   "execution_count": null,
   "metadata": {},
   "outputs": [],
   "source": [
    "# The Twitter user who we want to get his friends\n",
    "name = \"SPECIFIC-USER\"\n",
    "\n",
    "# Calling the friends_ids function with our parameters\n",
    "results = api.friends_ids(screen_name=name)\n",
    "\n",
    "# foreach through all friends pulled\n",
    "for id in results:\n",
    "    user_info = api.get_user(id)\n",
    "    # printing the user's id and screen name\n",
    "    print(id,\"->\",user_info.screen_name)"
   ]
  },
  {
   "cell_type": "markdown",
   "metadata": {},
   "source": [
    "### 2.2 Followers\n",
    "From the <a href=\"http://docs.tweepy.org/en/v3.5.0/api.html\" target=\"_blank\">Tweepy documentation</a>, the `followers_ids()` together with `get_user()` functions are used to accomplish our goal.\n",
    "\n",
    "<img src=\"function_followers_ids.png\" alt=\"The followers_ids() function\" title=\"The followers_ids() function\" width=\"60%\" align=\"left\" />"
   ]
  },
  {
   "cell_type": "code",
   "execution_count": null,
   "metadata": {},
   "outputs": [],
   "source": [
    "# The Twitter user who we want to get his followers\n",
    "name = \"SPECIFIC-USER\"\n",
    "\n",
    "# Calling the friends_ids function with our parameters\n",
    "results = api.followers_ids(screen_name=name)\n",
    "\n",
    "# foreach through all followers pulled\n",
    "for id in results:\n",
    "    user_info = api.get_user(id)\n",
    "    # printing the user's id and screen name\n",
    "    print(id,\"->\",user_info.screen_name)"
   ]
  },
  {
   "cell_type": "markdown",
   "metadata": {},
   "source": [
    "## 3) Exploring Trending Topics\n",
    "You can ask Twitter for the topics that are currently trending worldwide (or more specific locales).\n",
    "\n",
    "From the <a href=\"http://docs.tweepy.org/en/v3.5.0/api.html\" target=\"_blank\">Tweepy documentation</a>, the `trends_place()` function is used to accomplish our goal.\n",
    "\n",
    "<img src=\"function_trends_place.png\" alt=\"The trends_place() function\" title=\"The trends_place() function\" width=\"60%\" align=\"left\" />"
   ]
  },
  {
   "cell_type": "markdown",
   "metadata": {},
   "source": [
    "The key parameter needed to specify is `id`, referred to \"Where On Earth Identifier (WOEID)\". The WOEID is a unique 32-bit reference identifier, originally defined by GeoPlanet and now assigned by Yahoo!, that identifies any feature on Earth. For example, the world's WOEID is 1, and Bangkok's WOEID is 1225448, respectively. To find your WOEID, you simply use <a href=\"http://www.woeidlookup.com\" target=\"_blank\">WOEID Lookup</a>\n",
    "\n",
    "However, the trending topics are cached for 5 minutes. So that you do not need to request more frequently."
   ]
  },
  {
   "cell_type": "code",
   "execution_count": null,
   "metadata": {},
   "outputs": [],
   "source": [
    "# The WOE code to ask for trends (i.e., WOEID = 1 means the world)\n",
    "woeid = 1\n",
    "\n",
    "# Calling the trends_place function with our parameters\n",
    "results = api.trends_place(woeid)\n",
    "\n",
    "# foreach through all trends pulled\n",
    "for trend in results[0]['trends']:\n",
    "    # grab the name from each trend\n",
    "    print(trend['name'])"
   ]
  }
 ],
 "metadata": {
  "kernelspec": {
   "display_name": "Python 3",
   "language": "python",
   "name": "python3"
  },
  "language_info": {
   "codemirror_mode": {
    "name": "ipython",
    "version": 3
   },
   "file_extension": ".py",
   "mimetype": "text/x-python",
   "name": "python",
   "nbconvert_exporter": "python",
   "pygments_lexer": "ipython3",
   "version": "3.6.5"
  }
 },
 "nbformat": 4,
 "nbformat_minor": 2
}
